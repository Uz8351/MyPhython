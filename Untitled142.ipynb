{
  "nbformat": 4,
  "nbformat_minor": 0,
  "metadata": {
    "colab": {
      "provenance": [],
      "authorship_tag": "ABX9TyPg5a3wd14aWmHSVC34bokk",
      "include_colab_link": true
    },
    "kernelspec": {
      "name": "python3",
      "display_name": "Python 3"
    },
    "language_info": {
      "name": "python"
    }
  },
  "cells": [
    {
      "cell_type": "markdown",
      "metadata": {
        "id": "view-in-github",
        "colab_type": "text"
      },
      "source": [
        "<a href=\"https://colab.research.google.com/github/Uz8351/MyPhython/blob/master/Untitled142.ipynb\" target=\"_parent\"><img src=\"https://colab.research.google.com/assets/colab-badge.svg\" alt=\"Open In Colab\"/></a>"
      ]
    },
    {
      "cell_type": "code",
      "execution_count": 7,
      "metadata": {
        "colab": {
          "base_uri": "https://localhost:8080/",
          "height": 277
        },
        "id": "UvLNH-Y2hVFb",
        "outputId": "8fef1571-da84-4b6c-d78e-5a8eff7dad1a"
      },
      "outputs": [
        {
          "output_type": "stream",
          "name": "stdout",
          "text": [
            "----------------------------------------------------------------\n",
            "        Layer (type)               Output Shape         Param #\n",
            "================================================================\n",
            "            Linear-1                    [-1, 1]               3\n",
            "================================================================\n",
            "Total params: 3\n",
            "Trainable params: 3\n",
            "Non-trainable params: 0\n",
            "----------------------------------------------------------------\n",
            "Input size (MB): 0.00\n",
            "Forward/backward pass size (MB): 0.00\n",
            "Params size (MB): 0.00\n",
            "Estimated Total Size (MB): 0.00\n",
            "----------------------------------------------------------------\n",
            "None\n"
          ]
        },
        {
          "output_type": "display_data",
          "data": {
            "text/plain": [
              "<IPython.core.display.Javascript object>"
            ],
            "application/javascript": [
              "\n",
              "    async function download(id, filename, size) {\n",
              "      if (!google.colab.kernel.accessAllowed) {\n",
              "        return;\n",
              "      }\n",
              "      const div = document.createElement('div');\n",
              "      const label = document.createElement('label');\n",
              "      label.textContent = `Downloading \"${filename}\": `;\n",
              "      div.appendChild(label);\n",
              "      const progress = document.createElement('progress');\n",
              "      progress.max = size;\n",
              "      div.appendChild(progress);\n",
              "      document.body.appendChild(div);\n",
              "\n",
              "      const buffers = [];\n",
              "      let downloaded = 0;\n",
              "\n",
              "      const channel = await google.colab.kernel.comms.open(id);\n",
              "      // Send a message to notify the kernel that we're ready.\n",
              "      channel.send({})\n",
              "\n",
              "      for await (const message of channel.messages) {\n",
              "        // Send a message to notify the kernel that we're ready.\n",
              "        channel.send({})\n",
              "        if (message.buffers) {\n",
              "          for (const buffer of message.buffers) {\n",
              "            buffers.push(buffer);\n",
              "            downloaded += buffer.byteLength;\n",
              "            progress.value = downloaded;\n",
              "          }\n",
              "        }\n",
              "      }\n",
              "      const blob = new Blob(buffers, {type: 'application/binary'});\n",
              "      const a = document.createElement('a');\n",
              "      a.href = window.URL.createObjectURL(blob);\n",
              "      a.download = filename;\n",
              "      div.appendChild(a);\n",
              "      a.click();\n",
              "      div.remove();\n",
              "    }\n",
              "  "
            ]
          },
          "metadata": {}
        },
        {
          "output_type": "display_data",
          "data": {
            "text/plain": [
              "<IPython.core.display.Javascript object>"
            ],
            "application/javascript": [
              "download(\"download_315141f1-8857-4781-8a01-532467ce0390\", \"esquema_red_neuronal.png\", 114)"
            ]
          },
          "metadata": {}
        }
      ],
      "source": [
        "import torch\n",
        "import torch.nn as nn\n",
        "import torch.optim as optim\n",
        "from torchsummary import summary\n",
        "from graphviz import Digraph\n",
        "\n",
        "# Definir la red neuronal XORModel\n",
        "class XORModel(nn.Module):\n",
        "    def __init__(self):\n",
        "        super(XORModel, self).__init__()\n",
        "        self.layer = nn.Linear(2, 1)  # Ajustar la salida a (1, 1)\n",
        "\n",
        "    def forward(self, x):\n",
        "        return torch.sigmoid(self.layer(x))\n",
        "\n",
        "# Crear una instancia del modelo\n",
        "model = XORModel()\n",
        "\n",
        "# Datos de entrada y salida para el problema XOR\n",
        "inputs = torch.tensor([[0, 0], [0, 1], [1, 0], [1, 1]], dtype=torch.float32)\n",
        "targets = torch.tensor([[0], [1], [1], [0]], dtype=torch.float32)  # Asegúrate de que las etiquetas tengan una dimensión (4, 1)\n",
        "\n",
        "# Definir la función de pérdida y el optimizador\n",
        "criterion = nn.BCELoss()\n",
        "optimizer = optim.SGD(model.parameters(), lr=0.1)\n",
        "\n",
        "# Entrenar la red neuronal\n",
        "epochs = 10000\n",
        "for epoch in range(epochs):\n",
        "    outputs = model(inputs)\n",
        "    loss = criterion(outputs, targets)\n",
        "    optimizer.zero_grad()\n",
        "    loss.backward()\n",
        "    optimizer.step()\n",
        "\n",
        "# Obtener información sobre la estructura de la red neuronal\n",
        "summary_string = str(summary(model, (2,)))\n",
        "print(summary_string)\n",
        "\n",
        "# Visualizar el esquema gráfico de la red neuronal\n",
        "dot = Digraph()\n",
        "dot.attr(rankdir='LR')\n",
        "\n",
        "layers = summary_string.split(\"\\n\")[2:-3]\n",
        "for layer in layers:\n",
        "    layer_info = layer.split()\n",
        "    layer_name = layer_info[0]\n",
        "    layer_input = layer_info[1]\n",
        "    layer_output = layer_info[2]\n",
        "    dot.node(layer_name, label=f'{layer_name}\\n{layer_input} -> {layer_output}')\n",
        "\n",
        "for i in range(len(layers) - 1):\n",
        "    dot.edge(layers[i].split()[0], layers[i + 1].split()[0])\n",
        "\n",
        "dot.render('esquema_red_neuronal', format='png', view=True)  # Esto guardará el esquema en un archivo PNG y lo mostrará en Colab\n",
        "\n",
        "from google.colab import files\n",
        "\n",
        "# Descargar el archivo desde Colab al sistema local\n",
        "files.download('esquema_red_neuronal.png')"
      ]
    },
    {
      "cell_type": "code",
      "source": [
        "from google.colab import files\n",
        "\n",
        "# Descargar el archivo desde Colab al sistema local\n",
        "files.download('esquema_red_neuronal.png')"
      ],
      "metadata": {
        "colab": {
          "base_uri": "https://localhost:8080/",
          "height": 17
        },
        "id": "GEmh2RSIpw7E",
        "outputId": "dda2394e-2aa0-4261-fdc9-f9895e2d6e0d"
      },
      "execution_count": 6,
      "outputs": [
        {
          "output_type": "display_data",
          "data": {
            "text/plain": [
              "<IPython.core.display.Javascript object>"
            ],
            "application/javascript": [
              "\n",
              "    async function download(id, filename, size) {\n",
              "      if (!google.colab.kernel.accessAllowed) {\n",
              "        return;\n",
              "      }\n",
              "      const div = document.createElement('div');\n",
              "      const label = document.createElement('label');\n",
              "      label.textContent = `Downloading \"${filename}\": `;\n",
              "      div.appendChild(label);\n",
              "      const progress = document.createElement('progress');\n",
              "      progress.max = size;\n",
              "      div.appendChild(progress);\n",
              "      document.body.appendChild(div);\n",
              "\n",
              "      const buffers = [];\n",
              "      let downloaded = 0;\n",
              "\n",
              "      const channel = await google.colab.kernel.comms.open(id);\n",
              "      // Send a message to notify the kernel that we're ready.\n",
              "      channel.send({})\n",
              "\n",
              "      for await (const message of channel.messages) {\n",
              "        // Send a message to notify the kernel that we're ready.\n",
              "        channel.send({})\n",
              "        if (message.buffers) {\n",
              "          for (const buffer of message.buffers) {\n",
              "            buffers.push(buffer);\n",
              "            downloaded += buffer.byteLength;\n",
              "            progress.value = downloaded;\n",
              "          }\n",
              "        }\n",
              "      }\n",
              "      const blob = new Blob(buffers, {type: 'application/binary'});\n",
              "      const a = document.createElement('a');\n",
              "      a.href = window.URL.createObjectURL(blob);\n",
              "      a.download = filename;\n",
              "      div.appendChild(a);\n",
              "      a.click();\n",
              "      div.remove();\n",
              "    }\n",
              "  "
            ]
          },
          "metadata": {}
        },
        {
          "output_type": "display_data",
          "data": {
            "text/plain": [
              "<IPython.core.display.Javascript object>"
            ],
            "application/javascript": [
              "download(\"download_0dc30c54-f4b0-4a8c-8e89-2e9f6c30f75e\", \"esquema_red_neuronal.png\", 114)"
            ]
          },
          "metadata": {}
        }
      ]
    }
  ]
}