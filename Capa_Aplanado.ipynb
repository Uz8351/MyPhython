{
  "nbformat": 4,
  "nbformat_minor": 0,
  "metadata": {
    "colab": {
      "provenance": [],
      "authorship_tag": "ABX9TyO0RIZG7PRJJLuxu/UHXXfo",
      "include_colab_link": true
    },
    "kernelspec": {
      "name": "python3",
      "display_name": "Python 3"
    },
    "language_info": {
      "name": "python"
    }
  },
  "cells": [
    {
      "cell_type": "markdown",
      "metadata": {
        "id": "view-in-github",
        "colab_type": "text"
      },
      "source": [
        "<a href=\"https://colab.research.google.com/github/Uz8351/MyPhython/blob/master/Capa_Aplanado.ipynb\" target=\"_parent\"><img src=\"https://colab.research.google.com/assets/colab-badge.svg\" alt=\"Open In Colab\"/></a>"
      ]
    },
    {
      "cell_type": "code",
      "source": [
        "from google.colab import drive\n",
        "drive.mount('/content/drive')\n",
        "\n",
        "import tensorflow as tf\n",
        "from tensorflow.keras.preprocessing.image import ImageDataGenerator\n",
        "from tensorflow.keras.models import Sequential, Model\n",
        "from tensorflow.keras.layers import Conv2D, MaxPooling2D, Flatten, Dense\n",
        "\n",
        "# Ruta de los datos en Google Drive\n",
        "data_path = '/content/drive/MyDrive/druida'\n",
        "\n",
        "# Configuración del generador de datos\n",
        "datagen = ImageDataGenerator(rescale=1./255, validation_split=0.2)\n",
        "\n",
        "# Carga las imágenes de entrenamiento\n",
        "train_generator = datagen.flow_from_directory(\n",
        "    data_path,\n",
        "    target_size=(150, 150),\n",
        "    batch_size=20,\n",
        "    class_mode='binary',\n",
        "    subset='training'\n",
        ")\n",
        "\n",
        "# Carga las imágenes de validación\n",
        "validation_generator = datagen.flow_from_directory(\n",
        "    data_path,\n",
        "    target_size=(150, 150),\n",
        "    batch_size=20,\n",
        "    class_mode='binary',\n",
        "    subset='validation'\n",
        ")\n",
        "\n",
        "# Construye el modelo\n",
        "model = Sequential()\n",
        "model.add(Conv2D(32, (3, 3), activation='relu', input_shape=(150, 150, 3)))\n",
        "model.add(MaxPooling2D(2, 2))\n",
        "model.add(Conv2D(64, (3, 3), activation='relu'))\n",
        "model.add(MaxPooling2D(2, 2))\n",
        "model.add(Conv2D(128, (3, 3), activation='relu'))\n",
        "model.add(MaxPooling2D(2, 2))\n",
        "model.add(Flatten())\n",
        "\n",
        "# Añadir un modelo intermedio para imprimir los valores de la capa de aplanamiento\n",
        "modelo_intermedio = Model(inputs=model.input, outputs=model.get_layer(index=-1).output)\n",
        "\n",
        "# Agregar capas adicionales\n",
        "model.add(Dense(512, activation='relu'))\n",
        "model.add(Dense(1, activation='sigmoid'))\n",
        "\n",
        "# Compila el modelo\n",
        "model.compile(optimizer='adam', loss='binary_crossentropy', metrics=['accuracy'])\n",
        "\n",
        "# Entrena el modelo\n",
        "model.fit(train_generator, epochs=10, validation_data=validation_generator)\n",
        "\n",
        "# Supongamos que tienes un conjunto de datos de entrada 'datos_entrada'\n",
        "# Puedes obtener las salidas intermedias usando el método predict\n",
        "salida_intermedia = modelo_intermedio.predict(train_generator[0][0])\n",
        "\n",
        "# Imprimir los valores de la capa aplanada\n",
        "print(\"Valores de la capa aplanada:\")\n",
        "print(salida_intermedia)\n",
        "\n",
        "# Resto de tu código para la predicción\n",
        "image_path = '/content/drive/MyDrive/druida/moni.jpg'\n",
        "img = image.load_img(image_path, target_size=(150, 150))\n",
        "img_array = image.img_to_array(img)\n",
        "img_array = np.expand_dims(img_array, axis=0) / 255.0\n",
        "prediction = model.predict(img_array)\n",
        "\n",
        "# Imprime la predicción\n",
        "if prediction[0][0] >= 0.5:\n",
        "    print(\"¡Es un perro!\")\n",
        "else:\n",
        "    print(\"¡Es un gato!\")\n"
      ],
      "metadata": {
        "colab": {
          "base_uri": "https://localhost:8080/"
        },
        "id": "jtkbgry9W_E4",
        "outputId": "8ded2c56-25ba-4016-bbdf-560578838a37"
      },
      "execution_count": 10,
      "outputs": [
        {
          "output_type": "stream",
          "name": "stdout",
          "text": [
            "Drive already mounted at /content/drive; to attempt to forcibly remount, call drive.mount(\"/content/drive\", force_remount=True).\n",
            "Found 44 images belonging to 2 classes.\n",
            "Found 10 images belonging to 2 classes.\n",
            "Epoch 1/10\n",
            "3/3 [==============================] - 4s 889ms/step - loss: 1.4555 - accuracy: 0.4773 - val_loss: 0.9594 - val_accuracy: 0.4000\n",
            "Epoch 2/10\n",
            "3/3 [==============================] - 3s 782ms/step - loss: 0.8250 - accuracy: 0.4318 - val_loss: 0.7006 - val_accuracy: 0.4000\n",
            "Epoch 3/10\n",
            "3/3 [==============================] - 4s 1s/step - loss: 0.6890 - accuracy: 0.5227 - val_loss: 0.6833 - val_accuracy: 0.6000\n",
            "Epoch 4/10\n",
            "3/3 [==============================] - 3s 782ms/step - loss: 0.6868 - accuracy: 0.5682 - val_loss: 0.6947 - val_accuracy: 0.4000\n",
            "Epoch 5/10\n",
            "3/3 [==============================] - 3s 777ms/step - loss: 0.6753 - accuracy: 0.5455 - val_loss: 0.6813 - val_accuracy: 0.6000\n",
            "Epoch 6/10\n",
            "3/3 [==============================] - 3s 945ms/step - loss: 0.6470 - accuracy: 0.6364 - val_loss: 0.6817 - val_accuracy: 0.6000\n",
            "Epoch 7/10\n",
            "3/3 [==============================] - 4s 909ms/step - loss: 0.6386 - accuracy: 0.5909 - val_loss: 0.7035 - val_accuracy: 0.3000\n",
            "Epoch 8/10\n",
            "3/3 [==============================] - 3s 990ms/step - loss: 0.5859 - accuracy: 0.6591 - val_loss: 0.6866 - val_accuracy: 0.6000\n",
            "Epoch 9/10\n",
            "3/3 [==============================] - 3s 1s/step - loss: 0.4925 - accuracy: 0.7500 - val_loss: 0.8118 - val_accuracy: 0.5000\n",
            "Epoch 10/10\n",
            "3/3 [==============================] - 4s 909ms/step - loss: 0.5768 - accuracy: 0.6364 - val_loss: 0.7025 - val_accuracy: 0.5000\n",
            "1/1 [==============================] - 0s 237ms/step\n",
            "Valores de la capa aplanada:\n",
            "[[0.02125648 0.         0.         ... 0.         0.         0.01031439]\n",
            " [0.0132089  0.         0.         ... 0.         0.         0.010158  ]\n",
            " [0.0234642  0.         0.         ... 0.         0.         0.0090309 ]\n",
            " ...\n",
            " [0.         0.         0.         ... 0.         0.         0.        ]\n",
            " [0.01175471 0.         0.         ... 0.         0.         0.        ]\n",
            " [0.01503042 0.         0.         ... 0.         0.         0.        ]]\n",
            "1/1 [==============================] - 0s 95ms/step\n",
            "¡Es un gato!\n"
          ]
        }
      ]
    }
  ]
}