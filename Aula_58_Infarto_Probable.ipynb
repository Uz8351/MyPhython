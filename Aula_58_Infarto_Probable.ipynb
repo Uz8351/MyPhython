{
  "nbformat": 4,
  "nbformat_minor": 0,
  "metadata": {
    "colab": {
      "provenance": [],
      "authorship_tag": "ABX9TyNFFIV1vy5w+jpsjr23eOSt",
      "include_colab_link": true
    },
    "kernelspec": {
      "name": "python3",
      "display_name": "Python 3"
    },
    "language_info": {
      "name": "python"
    }
  },
  "cells": [
    {
      "cell_type": "markdown",
      "metadata": {
        "id": "view-in-github",
        "colab_type": "text"
      },
      "source": [
        "<a href=\"https://colab.research.google.com/github/Uz8351/MyPhython/blob/master/Aula_58_Infarto_Probable.ipynb\" target=\"_parent\"><img src=\"https://colab.research.google.com/assets/colab-badge.svg\" alt=\"Open In Colab\"/></a>"
      ]
    },
    {
      "cell_type": "code",
      "execution_count": 1,
      "metadata": {
        "colab": {
          "base_uri": "https://localhost:8080/"
        },
        "id": "fvrzgItwdbRO",
        "outputId": "879a4fa7-7fa0-47cf-bdf5-a41a8c599831"
      },
      "outputs": [
        {
          "output_type": "stream",
          "name": "stdout",
          "text": [
            "Epoch 1/10\n",
            "1/1 [==============================] - 1s 699ms/step - loss: 0.7012 - accuracy: 0.0000e+00\n",
            "Epoch 2/10\n",
            "1/1 [==============================] - 0s 12ms/step - loss: 0.6990 - accuracy: 0.0000e+00\n",
            "Epoch 3/10\n",
            "1/1 [==============================] - 0s 13ms/step - loss: 0.6968 - accuracy: 0.0000e+00\n",
            "Epoch 4/10\n",
            "1/1 [==============================] - 0s 13ms/step - loss: 0.6946 - accuracy: 0.0000e+00\n",
            "Epoch 5/10\n",
            "1/1 [==============================] - 0s 13ms/step - loss: 0.6924 - accuracy: 1.0000\n",
            "Epoch 6/10\n",
            "1/1 [==============================] - 0s 14ms/step - loss: 0.6902 - accuracy: 1.0000\n",
            "Epoch 7/10\n",
            "1/1 [==============================] - 0s 12ms/step - loss: 0.6880 - accuracy: 1.0000\n",
            "Epoch 8/10\n",
            "1/1 [==============================] - 0s 12ms/step - loss: 0.6859 - accuracy: 1.0000\n",
            "Epoch 9/10\n",
            "1/1 [==============================] - 0s 11ms/step - loss: 0.6837 - accuracy: 1.0000\n",
            "Epoch 10/10\n",
            "1/1 [==============================] - 0s 10ms/step - loss: 0.6815 - accuracy: 1.0000\n",
            "1/1 [==============================] - 0s 123ms/step\n",
            "Probabilidad de tener un infarto de miocardio: 0.5069391\n"
          ]
        }
      ],
      "source": [
        "import tensorflow as tf\n",
        "from tensorflow.keras.models import Sequential\n",
        "from tensorflow.keras.layers import Dense\n",
        "\n",
        "# Datos de entrada y salida proporcionados\n",
        "tension_infarto = 20000  # Personas con infarto y tensión sanguinea alta\n",
        "colesterol_infarto = 12000  # Personas con infarto y colesterol alto\n",
        "trigliceridos_infarto = 14000  # Personas con infarto y triglicéridos altos\n",
        "total_personas = 30000  # Total de personas en los datos\n",
        "\n",
        "# Calcular las probabilidades de infarto de miocardio para cada parámetro\n",
        "prob_tension_infarto = tension_infarto / total_personas\n",
        "prob_colesterol_infarto = colesterol_infarto / total_personas\n",
        "prob_trigliceridos_infarto = trigliceridos_infarto / total_personas\n",
        "\n",
        "# Definir los datos de entrada y salida\n",
        "X_train = [[prob_tension_infarto, prob_colesterol_infarto, prob_trigliceridos_infarto]]\n",
        "y_train = [[1]]  # 1 indica que hubo infarto, ya que estamos utilizando datos de personas con infarto\n",
        "\n",
        "# Construir el modelo de red neuronal\n",
        "model = Sequential([\n",
        "    Dense(4, activation='relu', input_shape=(3,)),  # Capa oculta con 4 nodos y función de activación ReLU\n",
        "    Dense(1, activation='sigmoid')  # Capa de salida con 1 nodo y función de activación sigmoide para la probabilidad\n",
        "])\n",
        "\n",
        "# Compilar el modelo\n",
        "model.compile(optimizer='adam', loss='binary_crossentropy', metrics=['accuracy'])\n",
        "\n",
        "# Entrenar el modelo con los datos proporcionados\n",
        "model.fit(X_train, y_train, epochs=10)\n",
        "\n",
        "# Hacer predicciones con el modelo entrenado\n",
        "predictions = model.predict(X_train)\n",
        "\n",
        "print(\"Probabilidad de tener un infarto de miocardio:\", predictions[0][0])\n"
      ]
    }
  ]
}