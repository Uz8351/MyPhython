{
  "nbformat": 4,
  "nbformat_minor": 0,
  "metadata": {
    "colab": {
      "provenance": [],
      "authorship_tag": "ABX9TyOcwABJAXJAx2CH9rDoNg2D",
      "include_colab_link": true
    },
    "kernelspec": {
      "name": "python3",
      "display_name": "Python 3"
    },
    "language_info": {
      "name": "python"
    }
  },
  "cells": [
    {
      "cell_type": "markdown",
      "metadata": {
        "id": "view-in-github",
        "colab_type": "text"
      },
      "source": [
        "<a href=\"https://colab.research.google.com/github/Uz8351/MyPhython/blob/master/4_DIC_AULA_2.ipynb\" target=\"_parent\"><img src=\"https://colab.research.google.com/assets/colab-badge.svg\" alt=\"Open In Colab\"/></a>"
      ]
    },
    {
      "cell_type": "code",
      "source": [
        "\n",
        "\n",
        "import tensorflow as tf\n",
        "from tensorflow.keras.preprocessing import image\n",
        "from tensorflow.keras.applications.inception_v3 import InceptionV3\n",
        "from tensorflow.keras.applications.inception_v3 import preprocess_input, decode_predictions\n",
        "import numpy as np\n",
        "\n",
        "# Cargar el modelo preentrenado de InceptionV3 con pesos de ImageNet\n",
        "model = InceptionV3(weights='imagenet')\n",
        "\n",
        "# Cargar la imagen desde la ruta proporcionada\n",
        "img_path = '/content/drive/MyDrive/druida/flores/flores1/image_00001.jpg'\n",
        "img = image.load_img(img_path, target_size=(299, 299))\n",
        "\n",
        "# Convertir la imagen a un array de numpy\n",
        "img_array = image.img_to_array(img)\n",
        "\n",
        "# Expandir las dimensiones para que coincidan con las dimensiones de entrada del modelo\n",
        "img_array = np.expand_dims(img_array, axis=0)\n",
        "\n",
        "# Preprocesar la imagen para que coincida con el formato que acepta InceptionV3\n",
        "img_array = preprocess_input(img_array)\n",
        "\n",
        "# Obtener predicciones\n",
        "predictions = model.predict(img_array)\n",
        "\n",
        "# Decodificar y mostrar las predicciones\n",
        "decoded_predictions = decode_predictions(predictions, top=3)[0]\n",
        "print(\"Predicciones:\")\n",
        "for i, (imagenet_id, label, score) in enumerate(decoded_predictions):\n",
        "    print(f\"{i + 1}: {label} ({score:.2f})\")\n",
        "\n",
        "# Imprimir la clase predicha\n",
        "print(f\"La flor en la imagen es probablemente: {decoded_predictions[0][1]}\")\n"
      ],
      "metadata": {
        "colab": {
          "base_uri": "https://localhost:8080/"
        },
        "id": "k9ofSgJ2zu0H",
        "outputId": "7fcdb982-5f05-46f8-cd8d-0a3669296456"
      },
      "execution_count": 13,
      "outputs": [
        {
          "output_type": "stream",
          "name": "stdout",
          "text": [
            "1/1 [==============================] - 2s 2s/step\n",
            "Downloading data from https://storage.googleapis.com/download.tensorflow.org/data/imagenet_class_index.json\n",
            "35363/35363 [==============================] - 0s 0us/step\n",
            "Predicciones:\n",
            "1: pot (0.09)\n",
            "2: orange (0.06)\n",
            "3: bee (0.04)\n",
            "La flor en la imagen es probablemente: pot\n"
          ]
        }
      ]
    }
  ]
}