{
  "nbformat": 4,
  "nbformat_minor": 0,
  "metadata": {
    "colab": {
      "provenance": [],
      "authorship_tag": "ABX9TyPieyZn5bM7sSoyZfo0wWia",
      "include_colab_link": true
    },
    "kernelspec": {
      "name": "python3",
      "display_name": "Python 3"
    },
    "language_info": {
      "name": "python"
    }
  },
  "cells": [
    {
      "cell_type": "markdown",
      "metadata": {
        "id": "view-in-github",
        "colab_type": "text"
      },
      "source": [
        "<a href=\"https://colab.research.google.com/github/Uz8351/MyPhython/blob/master/Crea_CONVO_AULA_28.ipynb\" target=\"_parent\"><img src=\"https://colab.research.google.com/assets/colab-badge.svg\" alt=\"Open In Colab\"/></a>"
      ]
    },
    {
      "cell_type": "code",
      "execution_count": 1,
      "metadata": {
        "colab": {
          "base_uri": "https://localhost:8080/",
          "height": 341
        },
        "id": "zkLCloVr3yhr",
        "outputId": "420e2e2f-5e13-4fc6-ee8d-8431ddfd12b1"
      },
      "outputs": [
        {
          "output_type": "display_data",
          "data": {
            "text/plain": [
              "<Figure size 800x400 with 2 Axes>"
            ],
            "image/png": "[encoded data removed]"
          },
          "metadata": {}
        }
      ],
      "source": [
        "import numpy as np\n",
        "import matplotlib.pyplot as plt\n",
        "from scipy import ndimage\n",
        "\n",
        "# Definir la imagen de entrada en color (3 canales)\n",
        "image = np.array([[[1, 2, 3], [4, 5, 6], [7, 8, 9], [10, 11, 12]],\n",
        "                  [[13, 14, 15], [16, 17, 18], [19, 20, 21], [22, 23, 24]],\n",
        "                  [[25, 26, 27], [28, 29, 30], [31, 32, 33], [34, 35, 36]],\n",
        "                  [[37, 38, 39], [40, 41, 42], [43, 44, 45], [46, 47, 48]]], dtype=np.uint8)\n",
        "\n",
        "# Definir el filtro de convolución\n",
        "filter_matrix = np.array([[[1, 0, -1], [1, 0, -1], [1, 0, -1]],\n",
        "                          [[-1, 0, 1], [-1, 0, 1], [-1, 0, 1]],\n",
        "                          [[1, 0, -1], [1, 0, -1], [1, 0, -1]]])\n",
        "\n",
        "# Realizar la convolución usando la función convolve de SciPy\n",
        "convolved_image = ndimage.convolve(image, filter_matrix, mode='constant', cval=0.0)\n",
        "\n",
        "# Mostrar la imagen original y la imagen convolucionada\n",
        "plt.figure(figsize=(8, 4))\n",
        "\n",
        "plt.subplot(1, 2, 1)\n",
        "plt.title('Imagen Original')\n",
        "plt.imshow(image, interpolation='none')\n",
        "plt.axis('off')\n",
        "\n",
        "plt.subplot(1, 2, 2)\n",
        "plt.title('Imagen Convolucionada')\n",
        "plt.imshow(convolved_image, interpolation='none')\n",
        "plt.axis('off')\n",
        "\n",
        "plt.show()\n"
      ]
    }
  ]
}