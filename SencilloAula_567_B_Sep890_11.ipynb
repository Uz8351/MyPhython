{
  "nbformat": 4,
  "nbformat_minor": 0,
  "metadata": {
    "colab": {
      "provenance": [],
      "authorship_tag": "ABX9TyPjtjlUV7TywUkbW0ERh6Ym",
      "include_colab_link": true
    },
    "kernelspec": {
      "name": "python3",
      "display_name": "Python 3"
    },
    "language_info": {
      "name": "python"
    }
  },
  "cells": [
    {
      "cell_type": "markdown",
      "metadata": {
        "id": "view-in-github",
        "colab_type": "text"
      },
      "source": [
        "<a href=\"https://colab.research.google.com/github/Uz8351/MyPhython/blob/master/SencilloAula_567_B_Sep890_11.ipynb\" target=\"_parent\"><img src=\"https://colab.research.google.com/assets/colab-badge.svg\" alt=\"Open In Colab\"/></a>"
      ]
    },
    {
      "cell_type": "code",
      "source": [
        "# Importar numpy\n",
        "import numpy as np\n",
        "\n",
        "# Definir los datos de entrada X y la salida esperada y\n",
        "X = np.array([1, 2, 3, 4, 5])\n",
        "y = np.array([2, 4, 6, 8, 10])\n",
        "\n",
        "# Inicializar los parámetros del modelo m y b\n",
        "m = 0\n",
        "b = 0\n",
        "\n",
        "# Definir la tasa de aprendizaje alpha y el número de iteraciones\n",
        "alpha = 0.01\n",
        "iterations = 1000\n",
        "\n",
        "# Crear una lista vacía para almacenar el historial del error cuadrático medio (MSE)\n",
        "mse_history = []\n",
        "\n",
        "# Descenso de gradiente tipo Batch\n",
        "for i in range(iterations):\n",
        "    # Calcular las predicciones del modelo\n",
        "    y_pred = m * X + b\n",
        "\n",
        "    # Calcular el error cuadrático medio (MSE)\n",
        "    mse = np.mean((y_pred - y) ** 2)\n",
        "    mse_history.append(mse)\n",
        "\n",
        "    # Calcular el gradiente de la función de costo (MSE)\n",
        "    gradient_m = np.mean((y_pred - y) * X)\n",
        "    gradient_b = np.mean(y_pred - y)\n",
        "\n",
        "    # Actualizar los parámetros del modelo\n",
        "    m = m - alpha * gradient_m\n",
        "    b = b - alpha * gradient_b\n",
        "\n",
        "# Imprimir los parámetros finales del modelo y el MSE final\n",
        "print(\"m =\", m)\n",
        "print(\"b =\", b)\n",
        "print(\"MSE =\", mse_history[-1])\n"
      ],
      "metadata": {
        "colab": {
          "base_uri": "https://localhost:8080/"
        },
        "id": "bQXfFSk_UNzT",
        "outputId": "f88315b5-b6bf-4f28-9e31-6a569cbc506c"
      },
      "execution_count": 2,
      "outputs": [
        {
          "output_type": "stream",
          "name": "stdout",
          "text": [
            "m = 1.9737548787242036\n",
            "b = 0.09475321533750963\n",
            "MSE = 0.0016397235057143736\n"
          ]
        }
      ]
    }
  ]
}