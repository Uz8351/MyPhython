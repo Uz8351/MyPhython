{
  "nbformat": 4,
  "nbformat_minor": 0,
  "metadata": {
    "colab": {
      "provenance": [],
      "authorship_tag": "ABX9TyMKxV1zonZyZnP2ZhrvHGxw",
      "include_colab_link": true
    },
    "kernelspec": {
      "name": "python3",
      "display_name": "Python 3"
    },
    "language_info": {
      "name": "python"
    }
  },
  "cells": [
    {
      "cell_type": "markdown",
      "metadata": {
        "id": "view-in-github",
        "colab_type": "text"
      },
      "source": [
        "<a href=\"https://colab.research.google.com/github/Uz8351/MyPhython/blob/master/ClaseJueves%2CGradiente_Batch.ipynb\" target=\"_parent\"><img src=\"https://colab.research.google.com/assets/colab-badge.svg\" alt=\"Open In Colab\"/></a>"
      ]
    },
    {
      "cell_type": "code",
      "execution_count": 24,
      "metadata": {
        "colab": {
          "base_uri": "https://localhost:8080/",
          "height": 861
        },
        "id": "izgiBvG7BLVJ",
        "outputId": "b4cc4522-dd58-48b4-ba9c-a7be2aafc9b6"
      },
      "outputs": [
        {
          "output_type": "stream",
          "name": "stdout",
          "text": [
            "0.19811800539545577 0.47928797085147357\n",
            "0.5055528273384065 0.5511426073173944\n",
            "0.665725008705987 0.5941705032808976\n",
            "0.7486758144247639 0.622067956076019\n",
            "0.7911346597288268 0.6420172971239287\n",
            "0.8123623291638506 0.657784954223791\n",
            "0.8224591115161123 0.6713460658138085\n",
            "0.8267215600125907 0.6837364236533696\n",
            "0.827927163863158 0.695499228924635\n",
            "0.827532422934389 0.7069193697474246\n",
            "0.8263011143942256 0.7181462755819579\n",
            "0.8246337537926605 0.729258341697015\n",
            "0.8227403634310165 0.7402967131615468\n",
            "0.8207310715591403 0.7512830010653707\n",
            "0.8186636223134921 0.7622285728506126\n",
            "0.8165682897813467 0.7731394241329438\n",
            "0.8144609428587765 0.7840187334697649\n",
            "0.8123498964216307 0.7948682020729514\n",
            "0.8102395040583115 0.8056887563502926\n",
            "0.8081320420876591 0.8164809163162735\n",
            "0.8060286975320454 0.8272449887857748\n"
          ]
        },
        {
          "output_type": "display_data",
          "data": {
            "text/plain": [
              "<Figure size 787.402x472.441 with 0 Axes>"
            ]
          },
          "metadata": {}
        },
        {
          "output_type": "display_data",
          "data": {
            "text/plain": [
              "<Figure size 787.402x472.441 with 1 Axes>"
            ],
            "image/png": "[encoded data removed]"
          },
          "metadata": {}
        },
        {
          "output_type": "stream",
          "name": "stdout",
          "text": [
            "Pendiente final: 0.8060286975320454\n",
            "Ordenada al origen final: 0.8272449887857748\n"
          ]
        }
      ],
      "source": [
        "\n",
        "\"\"\"\n",
        "Se importan las bibliotecas necesarias:\n",
        "NumPy para operaciones matriciales y Matplotlib para generar gráficos.\n",
        "\"\"\"\n",
        "\n",
        "import numpy as np\n",
        "import matplotlib.pyplot as plt\n",
        "\n",
        "#Se proporcionan los datos de ejemplo en forma de coordenadas (x, y).\n",
        "\n",
        "# Nuevos datos de ejemplo (puntos en forma de coordenadas x, y)\n",
        "x = np.array([1, 2, 3, 4, 5, 3, 5, 4, 5, 6, 7, 8, 2, 3, 4, 5, 3, 4, 5, 6, 6, 7])\n",
        "y = np.array([2, 4, 5, 4, 5, 12, 3, 4, 7, 8, 5, 6, 7, 8, 3, 2, 2, 4, 5, 6, 6, 1])\n",
        "\n",
        "# Inicialización de parámetros (pendiente y ordenada al origen)\n",
        "\"\"\"\n",
        "Al utilizar números aleatorios para inicializar\n",
        "la pendiente y la ordenada al origen, se da inicio\n",
        "al proceso de descenso de gradiente desde un punto\n",
        "inicial arbitrario en el espacio de parámetros.\n",
        "Durante las iteraciones del descenso de gradiente,\n",
        "estos valores se ajustarán gradualmente para encontrar\n",
        "los valores que minimicen la diferencia entre las predicciones y los valores reales.\n",
        "\n",
        "La elección de valores aleatorios iniciales es\n",
        "común en el descenso de gradiente, ya que ayuda a\n",
        "explorar diferentes direcciones en el espacio de\n",
        "parámetros y a evitar quedar atrapado en mínimos locales subóptimos.\n",
        "\"\"\"\n",
        "slope = np.random.rand()\n",
        "intercept = np.random.rand()\n",
        "learning_rate = 0.01\n",
        "iterations = 20\n",
        "print(slope,intercept)\n",
        "# Descenso de gradiente\n",
        "initial_point = (slope, intercept)\n",
        "for i in range(iterations):\n",
        "    predictions = slope * x + intercept\n",
        "    errors = predictions - y\n",
        "    gradient_slope = (2 / len(x)) * np.sum(errors * x)\n",
        "    gradient_intercept = (2 / len(x)) * np.sum(errors)\n",
        "    slope -= learning_rate * gradient_slope\n",
        "    intercept -= learning_rate * gradient_intercept\n",
        "    print(slope,intercept)\n",
        "# Generar valores de x para la gráfica\n",
        "x_vals = np.linspace(min(x), max(x), num=100)\n",
        "\n",
        "# Configuración de tamaño de figura (más grande)\n",
        "plt.figure(figsize=(20.0/2.54 ,12.0/2.54))\n",
        "\n",
        "# Graficar los puntos y la línea ajustada\n",
        "initial_point_x = 0\n",
        "initial_point_y = slope * initial_point_x + intercept\n",
        "\n",
        "# Generar valores de x para la gráfica\n",
        "x_vals = np.linspace(min(x), max(x), num=100)\n",
        "\n",
        "# Configuración de tamaño de figura (más grande)\n",
        "plt.figure(figsize=(20.0/2.54 ,12.0/2.54))\n",
        "\n",
        "# Graficar los puntos y la línea ajustada\n",
        "plt.scatter(x=x, y=y, label='Datos')\n",
        "plt.scatter(initial_point_x, initial_point_y, color='red', label='Punto Inicial de la recta')\n",
        "plt.plot(x_vals, slope*x_vals + intercept, color='red', label='Ajuste')\n",
        "\n",
        "plt.xlabel('X')\n",
        "plt.ylabel('Y')\n",
        "plt.legend()\n",
        "plt.show()\n",
        "\n",
        "# Resto del código sin cambios\n",
        "\n",
        "print(f\"Pendiente final: {slope}\")\n",
        "print(f\"Ordenada al origen final: {intercept}\")"
      ]
    }
  ]
}