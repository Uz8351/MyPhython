{
  "nbformat": 4,
  "nbformat_minor": 0,
  "metadata": {
    "colab": {
      "provenance": [],
      "authorship_tag": "ABX9TyP2HPLG3Hq6IWiWfuNRoFw3",
      "include_colab_link": true
    },
    "kernelspec": {
      "name": "python3",
      "display_name": "Python 3"
    },
    "language_info": {
      "name": "python"
    }
  },
  "cells": [
    {
      "cell_type": "markdown",
      "metadata": {
        "id": "view-in-github",
        "colab_type": "text"
      },
      "source": [
        "<a href=\"https://colab.research.google.com/github/Uz8351/MyPhython/blob/master/Repa_Des_Grad_Adam_Aula_28_OC_23.ipynb\" target=\"_parent\"><img src=\"https://colab.research.google.com/assets/colab-badge.svg\" alt=\"Open In Colab\"/></a>"
      ]
    },
    {
      "cell_type": "code",
      "execution_count": null,
      "metadata": {
        "id": "0aGzYTtG_36A"
      },
      "outputs": [],
      "source": [
        "import numpy as np\n",
        "import matplotlib.pyplot as plt\n",
        "\n",
        "# Función de costo\n",
        "def f(x):\n",
        "    return x**2\n",
        "\n",
        "# Derivada\n",
        "def df(x):\n",
        "    return 2*x\n",
        "\n",
        "# Hiperparámetros\n",
        "lr = 0.2\n",
        "beta1 = 0.9\n",
        "beta2 = 0.999\n",
        "eps = 1e-8\n",
        "\n",
        "# Inicialización\n",
        "x = 10\n",
        "m = 0\n",
        "v = 0\n",
        "iters = 30\n",
        "costs = []\n",
        "x_history = []\n",
        "\n",
        "for i in range(iters):\n",
        "    # Gradiente\n",
        "    g = df(x)\n",
        "\n",
        "    # Momentos\n",
        "    m = beta1 * m + (1 - beta1) * g\n",
        "    v = beta2 * v + (1 - beta2) * (g**2)\n",
        "\n",
        "    # Sesgos\n",
        "    mhat = m / (1 - beta1)\n",
        "    vhat = v / (1 - beta2)\n",
        "\n",
        "    # Update\n",
        "    x = x - lr * mhat / (np.sqrt(vhat) + eps)\n",
        "    x_history.append(x)\n",
        "\n",
        "    # Costo\n",
        "    c = f(x)\n",
        "    costs.append(c)\n",
        "\n",
        "print(\"*******************************\")\n",
        "print(\"Historial de Costo:\")\n",
        "for index, miscostos in enumerate(costs):\n",
        "    print(f'Iteración {index}:{miscostos}')\n",
        "print(\"*******************************\")\n",
        "\n",
        "# Gráfica\n",
        "plt.plot(costs,color='black',marker='o',markerfacecolor='red', label='Costo MSE (puntos)')\n",
        "plt.ylabel('Costo')\n",
        "plt.xlabel('Iteraciones')\n",
        "plt.show()\n",
        "\n",
        "\n",
        "\n",
        "\n",
        "# Gráfica de la función\n",
        "x = np.linspace(-2, 12, 100)\n",
        "y = f(x)\n",
        "plt.plot(x, y, label='f(x) = x^2')\n",
        "plt.xlabel('x')\n",
        "plt.ylabel('f(x)')\n",
        "plt.title('Gráfica de f(x) = x^2')\n",
        "plt.legend()\n",
        "plt.grid(True)\n",
        "\n",
        "# Resalta los puntos de descenso en rojo\n",
        "plt.plot(x_history, [f(xi) for xi in x_history], 'ro', label='Descenso de gradiente')\n",
        "plt.legend()\n",
        "\n",
        "plt.show()\n",
        "\n",
        "print(\"Valor óptimo:\", x)\n"
      ]
    }
  ]
}