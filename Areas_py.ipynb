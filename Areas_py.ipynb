{
  "nbformat": 4,
  "nbformat_minor": 0,
  "metadata": {
    "colab": {
      "provenance": [],
      "authorship_tag": "ABX9TyNrZXAvrFH/b6F1aQ0DeiuW",
      "include_colab_link": true
    },
    "kernelspec": {
      "name": "python3",
      "display_name": "Python 3"
    },
    "language_info": {
      "name": "python"
    }
  },
  "cells": [
    {
      "cell_type": "markdown",
      "metadata": {
        "id": "view-in-github",
        "colab_type": "text"
      },
      "source": [
        "<a href=\"https://colab.research.google.com/github/Uz8351/MyPhython/blob/master/Areas_py.ipynb\" target=\"_parent\"><img src=\"https://colab.research.google.com/assets/colab-badge.svg\" alt=\"Open In Colab\"/></a>"
      ]
    },
    {
      "cell_type": "code",
      "source": [
        "def calcular_area(base, altura):\n",
        "    return (base * altura) / 2\n"
      ],
      "metadata": {
        "id": "F1CgiWaRR2ly"
      },
      "execution_count": null,
      "outputs": []
    },
    {
      "cell_type": "code",
      "execution_count": null,
      "metadata": {
        "id": "waLeq3QtORHT"
      },
      "outputs": [],
      "source": [
        "\"\"\"En este ejemplo, varios programas en Python funcionan como modulos entre si.\n",
        "   Con el fin de aprender la relación entre programas \"\"\"\n",
        "def calcular_area(base, altura):\n",
        "  return (base*altura)/2\n",
        "\n",
        "\n",
        "\n"
      ]
    },
    {
      "cell_type": "code",
      "source": [
        "import math\n",
        "\n",
        "def calcular_area(radio):\n",
        "    return math.pi * radio ** 2"
      ],
      "metadata": {
        "id": "t7tcEe8eSdjf"
      },
      "execution_count": null,
      "outputs": []
    },
    {
      "cell_type": "code",
      "source": [
        "from rectangulo.py import calcular_area as area_rectangulo\n",
        "from triangulo.py import calcular_area as area_triangulo\n",
        "from circulo import calcular_area as area_circulo\n",
        "\n",
        "base_rectangulo = 5\n",
        "altura_rectangulo = 3\n",
        "area1 = area_rectangulo(base_rectangulo, altura_rectangulo)\n",
        "print(\"El área del rectángulo es:\", area1)\n",
        "\n",
        "base_triangulo = 4\n",
        "altura_triangulo = 6\n",
        "\n",
        "area2 = area_triangulo(base_triangulo, altura_triangulo)\n",
        "print(\"El área del triángulo es:\", area2)\n",
        "\n",
        "radio_circulo = 2\n",
        "area3 = area_circulo(radio_circulo)\n",
        "print(\"El área del círculo es:\", area3)\n"
      ],
      "metadata": {
        "colab": {
          "base_uri": "https://localhost:8080/",
          "height": 373
        },
        "id": "N8f4s42ySyCm",
        "outputId": "4e65eb0e-c720-4eff-811b-a2d368b3e959"
      },
      "execution_count": null,
      "outputs": [
        {
          "output_type": "error",
          "ename": "ModuleNotFoundError",
          "evalue": "ignored",
          "traceback": [
            "\u001b[0;31m---------------------------------------------------------------------------\u001b[0m",
            "\u001b[0;31mModuleNotFoundError\u001b[0m                       Traceback (most recent call last)",
            "\u001b[0;32m<ipython-input-6-6345f60e44f8>\u001b[0m in \u001b[0;36m<cell line: 1>\u001b[0;34m()\u001b[0m\n\u001b[0;32m----> 1\u001b[0;31m \u001b[0;32mfrom\u001b[0m \u001b[0mrectangulo\u001b[0m \u001b[0;32mimport\u001b[0m \u001b[0mcalcular_area\u001b[0m \u001b[0;32mas\u001b[0m \u001b[0marea_rectangulo\u001b[0m\u001b[0;34m\u001b[0m\u001b[0;34m\u001b[0m\u001b[0m\n\u001b[0m\u001b[1;32m      2\u001b[0m \u001b[0;32mfrom\u001b[0m \u001b[0mtriangulo\u001b[0m \u001b[0;32mimport\u001b[0m \u001b[0mcalcular_area\u001b[0m \u001b[0;32mas\u001b[0m \u001b[0marea_triangulo\u001b[0m\u001b[0;34m\u001b[0m\u001b[0;34m\u001b[0m\u001b[0m\n\u001b[1;32m      3\u001b[0m \u001b[0;32mfrom\u001b[0m \u001b[0mcirculo\u001b[0m \u001b[0;32mimport\u001b[0m \u001b[0mcalcular_area\u001b[0m \u001b[0;32mas\u001b[0m \u001b[0marea_circulo\u001b[0m\u001b[0;34m\u001b[0m\u001b[0;34m\u001b[0m\u001b[0m\n\u001b[1;32m      4\u001b[0m \u001b[0;34m\u001b[0m\u001b[0m\n\u001b[1;32m      5\u001b[0m \u001b[0mbase_rectangulo\u001b[0m \u001b[0;34m=\u001b[0m \u001b[0;36m5\u001b[0m\u001b[0;34m\u001b[0m\u001b[0;34m\u001b[0m\u001b[0m\n",
            "\u001b[0;31mModuleNotFoundError\u001b[0m: No module named 'rectangulo'",
            "",
            "\u001b[0;31m---------------------------------------------------------------------------\u001b[0;32m\nNOTE: If your import is failing due to a missing package, you can\nmanually install dependencies using either !pip or !apt.\n\nTo view examples of installing some common dependencies, click the\n\"Open Examples\" button below.\n\u001b[0;31m---------------------------------------------------------------------------\u001b[0m\n"
          ],
          "errorDetails": {
            "actions": [
              {
                "action": "open_url",
                "actionText": "Open Examples",
                "url": "/notebooks/snippets/importing_libraries.ipynb"
              }
            ]
          }
        }
      ]
    }
  ]
}