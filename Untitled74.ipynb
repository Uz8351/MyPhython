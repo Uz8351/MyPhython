{
  "nbformat": 4,
  "nbformat_minor": 0,
  "metadata": {
    "colab": {
      "provenance": [],
      "authorship_tag": "ABX9TyOrGHda5ucHMwI/klbzbXf/",
      "include_colab_link": true
    },
    "kernelspec": {
      "name": "python3",
      "display_name": "Python 3"
    },
    "language_info": {
      "name": "python"
    }
  },
  "cells": [
    {
      "cell_type": "markdown",
      "metadata": {
        "id": "view-in-github",
        "colab_type": "text"
      },
      "source": [
        "<a href=\"https://colab.research.google.com/github/Uz8351/MyPhython/blob/master/Untitled74.ipynb\" target=\"_parent\"><img src=\"https://colab.research.google.com/assets/colab-badge.svg\" alt=\"Open In Colab\"/></a>"
      ]
    },
    {
      "cell_type": "code",
      "execution_count": 6,
      "metadata": {
        "colab": {
          "base_uri": "https://localhost:8080/"
        },
        "id": "jRTw1TjUpJBH",
        "outputId": "3e2ad540-2912-4ffc-fb1e-f2f0842e420f"
      },
      "outputs": [
        {
          "output_type": "stream",
          "name": "stdout",
          "text": [
            "Introduce la Base Mayor:23.544546446\n",
            "Introduce la Base Menor:21.52345246\n",
            "Introduce la Altura:34.54656\n",
            "El Area del Trapecio es: 778.4721641430317\n"
          ]
        }
      ],
      "source": [
        "\"\"\"Vamos a calcular el area de un trapecio\"\"\"\n",
        "\"\"\" (Base mayor+Base menor)/2)*Altura\"\"\"\n",
        "\"\"\" (Aprendiendo indentation\"\"\"\n",
        "\n",
        "def FuncionTrapecio ():\n",
        "    BaseMayor = float(input(\"Introduce la Base Mayor:\"))\n",
        "    BaseMenor = float(input(\"Introduce la Base Menor:\"))\n",
        "    Altura    = float(input(\"Introduce la Altura:\"))\n",
        "    AreaTRapecio=((BaseMayor+BaseMenor)/2)*Altura\n",
        "    return AreaTRapecio\n",
        "Calculo_Area_Trapecio = FuncionTrapecio()\n",
        "print(\"El Area del Trapecio es:\",Calculo_Area_Trapecio)\n",
        "\n",
        "\n",
        "\n",
        "\n"
      ]
    }
  ]
}