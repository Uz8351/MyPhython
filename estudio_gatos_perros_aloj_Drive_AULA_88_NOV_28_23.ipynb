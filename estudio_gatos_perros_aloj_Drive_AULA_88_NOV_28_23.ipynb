{
  "nbformat": 4,
  "nbformat_minor": 0,
  "metadata": {
    "colab": {
      "provenance": [],
      "authorship_tag": "ABX9TyM2zkrV/ILlaS0tYWewQIRU",
      "include_colab_link": true
    },
    "kernelspec": {
      "name": "python3",
      "display_name": "Python 3"
    },
    "language_info": {
      "name": "python"
    }
  },
  "cells": [
    {
      "cell_type": "markdown",
      "metadata": {
        "id": "view-in-github",
        "colab_type": "text"
      },
      "source": [
        "<a href=\"https://colab.research.google.com/github/Uz8351/MyPhython/blob/master/estudio_gatos_perros_aloj_Drive_AULA_88_NOV_28_23.ipynb\" target=\"_parent\"><img src=\"https://colab.research.google.com/assets/colab-badge.svg\" alt=\"Open In Colab\"/></a>"
      ]
    },
    {
      "cell_type": "code",
      "execution_count": 1,
      "metadata": {
        "colab": {
          "base_uri": "https://localhost:8080/"
        },
        "id": "WUoP9KI88RYk",
        "outputId": "d72ccc8a-0e11-4f53-c2b9-a259b5edded1"
      },
      "outputs": [
        {
          "output_type": "stream",
          "name": "stdout",
          "text": [
            "Mounted at /content/drive\n",
            "Found 44 images belonging to 2 classes.\n",
            "Found 10 images belonging to 2 classes.\n",
            "Epoch 1/10\n",
            "3/3 [==============================] - 11s 4s/step - loss: 3.0581 - accuracy: 0.5227 - val_loss: 1.4910 - val_accuracy: 0.4000\n",
            "Epoch 2/10\n",
            "3/3 [==============================] - 4s 2s/step - loss: 0.9111 - accuracy: 0.4318 - val_loss: 0.6997 - val_accuracy: 0.5000\n",
            "Epoch 3/10\n",
            "3/3 [==============================] - 3s 865ms/step - loss: 0.6736 - accuracy: 0.6364 - val_loss: 0.7070 - val_accuracy: 0.5000\n",
            "Epoch 4/10\n",
            "3/3 [==============================] - 3s 788ms/step - loss: 0.6557 - accuracy: 0.5909 - val_loss: 0.7167 - val_accuracy: 0.6000\n",
            "Epoch 5/10\n",
            "3/3 [==============================] - 3s 924ms/step - loss: 0.5404 - accuracy: 0.8182 - val_loss: 0.9542 - val_accuracy: 0.4000\n",
            "Epoch 6/10\n",
            "3/3 [==============================] - 3s 889ms/step - loss: 0.5800 - accuracy: 0.5909 - val_loss: 0.7814 - val_accuracy: 0.5000\n",
            "Epoch 7/10\n",
            "3/3 [==============================] - 3s 770ms/step - loss: 0.3459 - accuracy: 0.9318 - val_loss: 1.3071 - val_accuracy: 0.4000\n",
            "Epoch 8/10\n",
            "3/3 [==============================] - 3s 854ms/step - loss: 0.4530 - accuracy: 0.7500 - val_loss: 0.9149 - val_accuracy: 0.3000\n",
            "Epoch 9/10\n",
            "3/3 [==============================] - 4s 2s/step - loss: 0.2138 - accuracy: 0.9545 - val_loss: 1.0638 - val_accuracy: 0.5000\n",
            "Epoch 10/10\n",
            "3/3 [==============================] - 4s 939ms/step - loss: 0.2110 - accuracy: 0.9773 - val_loss: 0.9804 - val_accuracy: 0.4000\n",
            "1/1 [==============================] - 0s 127ms/step\n",
            "¡Es un gato!\n"
          ]
        }
      ],
      "source": [
        "\"\"\"\n",
        "Te propongo que me hagas una red neuronal de selección de imagenes,\n",
        "con Google Colab.Este es el ejercicio.\n",
        "En Drive, tengo alojados en esta ruta: /content/drive/MyDrive/druida,\n",
        "dos directorios Cat, y Dog, con treinta imagenes de gatos y perros,\n",
        "respectivamente. Por otro lado deseo que dada la imagen en esta\n",
        "ruta:/content/drive/MyDrive/druida/moni.jpg y chucho.jpg,\n",
        "el modelo me diga si moni.jpg, o chucho.jpg, es un perro o un gato.\n",
        "\n",
        "\"\"\"\n",
        "\n",
        "\n",
        "from google.colab import drive\n",
        "drive.mount('/content/drive')\n",
        "\n",
        "\n",
        "\n",
        "\n",
        "import tensorflow as tf\n",
        "from tensorflow.keras.preprocessing.image import ImageDataGenerator\n",
        "from tensorflow.keras.models import Sequential\n",
        "from tensorflow.keras.layers import Conv2D, MaxPooling2D, Flatten, Dense\n",
        "\n",
        "# Ruta de los datos en Google Drive\n",
        "data_path = '/content/drive/MyDrive/druida'\n",
        "\n",
        "# Configuración del generador de datos\n",
        "datagen = ImageDataGenerator(rescale=1./255, validation_split=0.2)\n",
        "\n",
        "# Carga las imágenes de entrenamiento\n",
        "train_generator = datagen.flow_from_directory(\n",
        "    data_path,\n",
        "    target_size=(150, 150),\n",
        "    batch_size=20,\n",
        "    class_mode='binary',\n",
        "    subset='training'\n",
        ")\n",
        "\n",
        "# Carga las imágenes de validación\n",
        "validation_generator = datagen.flow_from_directory(\n",
        "    data_path,\n",
        "    target_size=(150, 150),\n",
        "    batch_size=20,\n",
        "    class_mode='binary',\n",
        "    subset='validation'\n",
        ")\n",
        "\n",
        "\n",
        "# Construye el modelo\n",
        "model = Sequential()\n",
        "model.add(Conv2D(32, (3, 3), activation='relu', input_shape=(150, 150, 3)))\n",
        "model.add(MaxPooling2D(2, 2))\n",
        "model.add(Conv2D(64, (3, 3), activation='relu'))\n",
        "model.add(MaxPooling2D(2, 2))\n",
        "model.add(Conv2D(128, (3, 3), activation='relu'))\n",
        "model.add(MaxPooling2D(2, 2))\n",
        "model.add(Flatten())\n",
        "model.add(Dense(512, activation='relu'))\n",
        "model.add(Dense(1, activation='sigmoid'))\n",
        "\n",
        "# Compila el modelo\n",
        "model.compile(optimizer='adam', loss='binary_crossentropy', metrics=['accuracy'])\n",
        "\n",
        "# Entrena el modelo\n",
        "model.fit(train_generator, epochs=10, validation_data=validation_generator)\n",
        "\n",
        "from tensorflow.keras.preprocessing import image\n",
        "import numpy as np\n",
        "\n",
        "# Ruta de la imagen a predecir\n",
        "image_path = '/content/drive/MyDrive/druida/moni.jpg'\n",
        "\n",
        "# Carga y redimensiona la imagen\n",
        "img = image.load_img(image_path, target_size=(150, 150))\n",
        "img_array = image.img_to_array(img)\n",
        "img_array = np.expand_dims(img_array, axis=0) / 255.0\n",
        "\n",
        "# Realiza la predicción\n",
        "prediction = model.predict(img_array)\n",
        "\n",
        "# Imprime la predicción\n",
        "if prediction[0][0] >= 0.5:\n",
        "    print(\"¡Es un perro!\")\n",
        "else:\n",
        "    print(\"¡Es un gato!\")\n"
      ]
    }
  ]
}