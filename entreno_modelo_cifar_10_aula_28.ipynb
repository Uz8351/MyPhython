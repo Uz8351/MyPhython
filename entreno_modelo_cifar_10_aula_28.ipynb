{
  "nbformat": 4,
  "nbformat_minor": 0,
  "metadata": {
    "colab": {
      "provenance": [],
      "mount_file_id": "https://github.com/Uz8351/MyPhython/blob/master/entreno_modelo_cifar_10_aula_28.ipynb",
      "authorship_tag": "ABX9TyM5TpARPvlRCtgvktIsBMyA",
      "include_colab_link": true
    },
    "kernelspec": {
      "name": "python3",
      "display_name": "Python 3"
    },
    "language_info": {
      "name": "python"
    }
  },
  "cells": [
    {
      "cell_type": "markdown",
      "metadata": {
        "id": "view-in-github",
        "colab_type": "text"
      },
      "source": [
        "<a href=\"https://colab.research.google.com/github/Uz8351/MyPhython/blob/master/entreno_modelo_cifar_10_aula_28.ipynb\" target=\"_parent\"><img src=\"https://colab.research.google.com/assets/colab-badge.svg\" alt=\"Open In Colab\"/></a>"
      ]
    },
    {
      "cell_type": "code",
      "source": [
        "import pickle\n",
        "import numpy as np\n",
        "from tensorflow.keras import layers, models, datasets\n",
        "from tensorflow.keras.utils import to_categorical\n",
        "\n",
        "# Cargar los datos CIFAR-10 de Keras\n",
        "(x_train, y_train), (x_test, y_test) = datasets.cifar10.load_data()\n",
        "\n",
        "# Normalizar datos y convertir etiquetas a one-hot encoding\n",
        "x_train = x_train / 255.0\n",
        "x_test = x_test / 255.0\n",
        "y_train = to_categorical(y_train, 10)\n",
        "y_test = to_categorical(y_test, 10)\n",
        "\n",
        "# Definir la arquitectura de la CNN\n",
        "model = models.Sequential()\n",
        "model.add(layers.Conv2D(32, (3, 3), activation='relu', input_shape=(32, 32, 3)))\n",
        "model.add(layers.MaxPooling2D((2, 2)))\n",
        "model.add(layers.Conv2D(64, (3, 3), activation='relu'))\n",
        "model.add(layers.MaxPooling2D((2, 2)))\n",
        "model.add(layers.Conv2D(64, (3, 3), activation='relu'))\n",
        "model.add(layers.Flatten())\n",
        "model.add(layers.Dense(64, activation='relu'))\n",
        "model.add(layers.Dense(10, activation='softmax'))\n",
        "\n",
        "# Compilar el modelo\n",
        "model.compile(optimizer='adam',\n",
        "              loss='categorical_crossentropy',\n",
        "              metrics=['accuracy'])\n",
        "\n",
        "# Imprimir resumen del modelo\n",
        "model.summary()\n",
        "\n",
        "# Entrenar el modelo\n",
        "history = model.fit(x_train, y_train, epochs=10, batch_size=64, validation_data=(x_test, y_test))\n",
        "\n",
        "# Guardar el modelo en formato .h5\n",
        "model.save('/content/drive/MyDrive/druida/modelo_HILARIO-cifar10.h5')\n"
      ],
      "metadata": {
        "id": "pLCUd9YZ-rJl"
      },
      "execution_count": null,
      "outputs": []
    },
    {
      "cell_type": "code",
      "source": [
        "import numpy as np\n",
        "from tensorflow.keras.preprocessing import image\n",
        "from tensorflow.keras.models import load_model\n",
        "\n",
        "# Ruta al modelo preentrenado\n",
        "modelo_path = '/content/drive/MyDrive/druida/modelo_HILARIO-cifar10.h5'\n",
        "\n",
        "# Ruta a la imagen de entrada\n",
        "imagen_path = '/content/drive/MyDrive/druida/Cat/10000.jpg'\n",
        "\n",
        "# Cargar el modelo\n",
        "modelo = load_model(modelo_path)\n",
        "\n",
        "# Cargar y preprocesar la imagen de entrada\n",
        "imagen = image.load_img(imagen_path, target_size=(32, 32))\n",
        "imagen_array = image.img_to_array(imagen)\n",
        "imagen_array = np.expand_dims(imagen_array, axis=0)\n",
        "imagen_array /= 255.0  # Normalizar los píxeles al rango [0, 1]\n",
        "\n",
        "# Realizar la predicción\n",
        "prediccion = modelo.predict(imagen_array)\n",
        "\n",
        "# Decodificar la salida para obtener la clase predicha\n",
        "clase_predicha = np.argmax(prediccion)\n",
        "\n",
        "# Imprimir el resultado\n",
        "print(f'La imagen pertenece a la clase: {clase_predicha}')\n"
      ],
      "metadata": {
        "id": "OTXN6qC-IE82"
      },
      "execution_count": null,
      "outputs": []
    },
    {
      "cell_type": "code",
      "source": [
        "import numpy as np\n",
        "from tensorflow.keras.preprocessing import image\n",
        "from tensorflow.keras.models import load_model\n",
        "\n",
        "# Ruta al modelo preentrenado\n",
        "modelo_path = '/content/drive/MyDrive/druida/modelo_HILARIO-cifar10.h5'\n",
        "\n",
        "# Ruta a la imagen de entrada\n",
        "imagen_path = '/content/drive/MyDrive/druida/Cat/10000.jpg'\n",
        "\n",
        "# Mapeo de clases a tipos\n",
        "clases_a_tipos = {\n",
        "    0: 'airplane',\n",
        "    1: 'automobile',\n",
        "    2: 'bird',\n",
        "    3: 'cat',\n",
        "    4: 'deer',\n",
        "    5: 'dog',\n",
        "    6: 'frog',\n",
        "    7: 'horse',\n",
        "    8: 'ship',\n",
        "    9: 'truck'\n",
        "}\n",
        "\n",
        "# Cargar el modelo\n",
        "modelo = load_model(modelo_path)\n",
        "\n",
        "# Cargar y preprocesar la imagen de entrada\n",
        "imagen = image.load_img(imagen_path, target_size=(32, 32))\n",
        "imagen_array = image.img_to_array(imagen)\n",
        "imagen_array = np.expand_dims(imagen_array, axis=0)\n",
        "imagen_array /= 255.0  # Normalizar los píxeles al rango [0, 1]\n",
        "\n",
        "# Realizar la predicción\n",
        "prediccion = modelo.predict(imagen_array)\n",
        "\n",
        "# Decodificar la salida para obtener la clase predicha\n",
        "clase_predicha = np.argmax(prediccion)\n",
        "\n",
        "# Obtener el tipo correspondiente\n",
        "tipo_predicho = clases_a_tipos.get(clase_predicha, 'Desconocido')\n",
        "\n",
        "# Imprimir el resultado\n",
        "print(f'La imagen pertenece a la clase: {clase_predicha} - Tipo: {tipo_predicho}')\n"
      ],
      "metadata": {
        "id": "IhAJwiO18Kdt",
        "outputId": "7304115e-906e-4705-a313-bc5ee0a14365",
        "colab": {
          "base_uri": "https://localhost:8080/"
        }
      },
      "execution_count": 1,
      "outputs": [
        {
          "output_type": "stream",
          "name": "stdout",
          "text": [
            "1/1 [==============================] - 0s 254ms/step\n",
            "La imagen pertenece a la clase: 3 - Tipo: cat\n"
          ]
        }
      ]
    }
  ]
}