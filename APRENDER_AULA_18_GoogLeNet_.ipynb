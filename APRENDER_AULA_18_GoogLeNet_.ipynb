{
  "nbformat": 4,
  "nbformat_minor": 0,
  "metadata": {
    "colab": {
      "provenance": [],
      "authorship_tag": "ABX9TyNwdoDG5HDoS28B9Uzrj1O6",
      "include_colab_link": true
    },
    "kernelspec": {
      "name": "python3",
      "display_name": "Python 3"
    },
    "language_info": {
      "name": "python"
    }
  },
  "cells": [
    {
      "cell_type": "markdown",
      "metadata": {
        "id": "view-in-github",
        "colab_type": "text"
      },
      "source": [
        "<a href=\"https://colab.research.google.com/github/Uz8351/MyPhython/blob/master/APRENDER_AULA_18_GoogLeNet_.ipynb\" target=\"_parent\"><img src=\"https://colab.research.google.com/assets/colab-badge.svg\" alt=\"Open In Colab\"/></a>"
      ]
    },
    {
      "cell_type": "code",
      "execution_count": null,
      "metadata": {
        "id": "6GGR4-wShjcJ"
      },
      "outputs": [],
      "source": [
        "\n",
        "\n",
        "#GoogLeNet\n",
        "\n",
        "\n",
        "from google.colab import drive\n",
        "drive.mount('/content/drive')\n",
        "\n",
        "\n",
        "\n",
        "\n",
        "import tensorflow as tf\n",
        "from tensorflow.keras.applications.inception_v3 import InceptionV3\n",
        "from tensorflow.keras.preprocessing import image\n",
        "from tensorflow.keras.applications.inception_v3 import preprocess_input, decode_predictions\n",
        "import numpy as np\n",
        "\n",
        "# Cargar el modelo preentrenado InceptionV3\n",
        "model = InceptionV3(weights='imagenet')\n",
        "\n",
        "# Cargar y preprocesar una imagen de ejemplo (puedes cambiar la URL por la de tu propia imagen)\n",
        "img_path = '/content/COHON.jpg'\n",
        "img = image.load_img(img_path, target_size=(299, 299))\n",
        "img_array = image.img_to_array(img)\n",
        "img_array = np.expand_dims(img_array, axis=0)\n",
        "img_array = preprocess_input(img_array)\n",
        "\n",
        "# Realizar predicciones\n",
        "predictions = model.predict(img_array)\n",
        "\n",
        "# Decodificar y mostrar las 3 principales predicciones\n",
        "decoded_predictions = decode_predictions(predictions, top=3)[0]\n",
        "for i, (imagenet_id, label, score) in enumerate(decoded_predictions):\n",
        "    print(f\"{i + 1}: {label} ({score:.2f})\")\n"
      ]
    },
    {
      "cell_type": "markdown",
      "source": [
        "Vamos a cargar un modelo preentrenado de TensorFlow/Keras utilizando la arquitectura InceptionV3, que fue entrenada en el conjunto de datos ImageNet para la clasificación de imágenes. Aquí te dejo un ejemplo simple en el que utilizaremos InceptionV3 para clasificar una imagen:\n",
        "# Nueva sección"
      ],
      "metadata": {
        "id": "NRfgjKTRq0sS"
      }
    },
    {
      "cell_type": "code",
      "source": [
        "\n",
        "from google.colab import drive\n",
        "drive.mount('/content/drive')\n",
        "\n",
        "\n",
        "\n",
        "\n",
        "import tensorflow as tf\n",
        "from tensorflow.keras.applications.inception_v3 import InceptionV3\n",
        "from tensorflow.keras.applications.inception_v3 import preprocess_input, decode_predictions\n",
        "from tensorflow.keras.preprocessing import image\n",
        "import numpy as np\n",
        "\n",
        "# Cargar el modelo InceptionV3 preentrenado en ImageNet\n",
        "model = InceptionV3(weights='imagenet')\n",
        "\n",
        "# Cargar y preprocesar una imagen de ejemplo (reemplaza la ruta con la de tu imagen)\n",
        "img_path = '/content/planeta.jpg'\n",
        "img = image.load_img(img_path, target_size=(299, 299))\n",
        "img_array = image.img_to_array(img)\n",
        "img_array = np.expand_dims(img_array, axis=0)\n",
        "img_array = preprocess_input(img_array)\n",
        "\n",
        "# Realizar la predicción\n",
        "predictions = model.predict(img_array)\n",
        "\n",
        "# Decodificar y mostrar las 3 principales predicciones\n",
        "decoded_predictions = decode_predictions(predictions, top=3)[0]\n",
        "for i, (imagenet_id, label, score) in enumerate(decoded_predictions):\n",
        "    print(f\"{i + 1}: {label} ({score:.2f})\")\n"
      ],
      "metadata": {
        "id": "BedweeJcqhyi",
        "outputId": "9d87346e-00ca-40d8-dd74-211dc78f9839",
        "colab": {
          "base_uri": "https://localhost:8080/"
        }
      },
      "execution_count": 8,
      "outputs": [
        {
          "output_type": "stream",
          "name": "stdout",
          "text": [
            "Drive already mounted at /content/drive; to attempt to forcibly remount, call drive.mount(\"/content/drive\", force_remount=True).\n",
            "1/1 [==============================] - 2s 2s/step\n",
            "1: bubble (0.48)\n",
            "2: planetarium (0.15)\n",
            "3: wing (0.04)\n"
          ]
        }
      ]
    }
  ]
}