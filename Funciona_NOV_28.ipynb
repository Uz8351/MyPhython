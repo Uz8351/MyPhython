{
  "nbformat": 4,
  "nbformat_minor": 0,
  "metadata": {
    "colab": {
      "provenance": [],
      "authorship_tag": "ABX9TyPmaEVUdnw42QuM2UkQ3Xmx",
      "include_colab_link": true
    },
    "kernelspec": {
      "name": "python3",
      "display_name": "Python 3"
    },
    "language_info": {
      "name": "python"
    }
  },
  "cells": [
    {
      "cell_type": "markdown",
      "metadata": {
        "id": "view-in-github",
        "colab_type": "text"
      },
      "source": [
        "<a href=\"https://colab.research.google.com/github/Uz8351/MyPhython/blob/master/Funciona_NOV_28.ipynb\" target=\"_parent\"><img src=\"https://colab.research.google.com/assets/colab-badge.svg\" alt=\"Open In Colab\"/></a>"
      ]
    },
    {
      "cell_type": "code",
      "source": [
        "import tensorflow as tf\n",
        "from tensorflow.keras.preprocessing.image import ImageDataGenerator\n",
        "from tensorflow.keras.models import Sequential\n",
        "from tensorflow.keras.layers import Conv2D, MaxPooling2D, Flatten, Dense\n",
        "\n",
        "# Ruta de los datos en Google Drive\n",
        "data_path = '/content/drive/MyDrive/druida'\n",
        "\n",
        "# Configuración del generador de datos\n",
        "datagen = ImageDataGenerator(rescale=1./255, validation_split=0.2)\n",
        "\n",
        "# Carga las imágenes de entrenamiento\n",
        "train_generator = datagen.flow_from_directory(\n",
        "    data_path,\n",
        "    target_size=(150, 150),\n",
        "    batch_size=20,\n",
        "    class_mode='binary',\n",
        "    subset='training'\n",
        ")\n",
        "\n",
        "# Carga las imágenes de validación\n",
        "validation_generator = datagen.flow_from_directory(\n",
        "    data_path,\n",
        "    target_size=(150, 150),\n",
        "    batch_size=20,\n",
        "    class_mode='binary',\n",
        "    subset='validation'\n",
        ")\n",
        "\n",
        "\n",
        "# Construye el modelo\n",
        "model = Sequential()\n",
        "model.add(Conv2D(32, (3, 3), activation='relu', input_shape=(150, 150, 3)))\n",
        "model.add(MaxPooling2D(2, 2))\n",
        "model.add(Conv2D(64, (3, 3), activation='relu'))\n",
        "model.add(MaxPooling2D(2, 2))\n",
        "model.add(Conv2D(128, (3, 3), activation='relu'))\n",
        "model.add(MaxPooling2D(2, 2))\n",
        "model.add(Flatten())\n",
        "model.add(Dense(512, activation='relu'))\n",
        "model.add(Dense(1, activation='sigmoid'))\n",
        "\n",
        "# Compila el modelo\n",
        "model.compile(optimizer='adam', loss='binary_crossentropy', metrics=['accuracy'])\n",
        "\n",
        "# Entrena el modelo\n",
        "model.fit(train_generator, epochs=10, validation_data=validation_generator)\n",
        "\n",
        "from tensorflow.keras.preprocessing import image\n",
        "import numpy as np\n",
        "\n",
        "# Ruta de la imagen a predecir\n",
        "image_path = '/content/drive/MyDrive/druida/moni.jpg'\n",
        "\n",
        "# Carga y redimensiona la imagen\n",
        "img = image.load_img(image_path, target_size=(150, 150))\n",
        "img_array = image.img_to_array(img)\n",
        "img_array = np.expand_dims(img_array, axis=0) / 255.0\n",
        "\n",
        "# Realiza la predicción\n",
        "prediction = model.predict(img_array)\n",
        "\n",
        "# Imprime la predicción\n",
        "if prediction[0][0] >= 0.5:\n",
        "    print(\"¡Es un perro!\")\n",
        "else:\n",
        "    print(\"¡Es un gato!\")\n"
      ],
      "metadata": {
        "colab": {
          "base_uri": "https://localhost:8080/"
        },
        "id": "IZVaVydozup4",
        "outputId": "ded9a44a-f0d1-4fdf-9511-a942722b54c2"
      },
      "execution_count": 9,
      "outputs": [
        {
          "output_type": "stream",
          "name": "stdout",
          "text": [
            "Found 44 images belonging to 2 classes.\n",
            "Found 10 images belonging to 2 classes.\n",
            "Epoch 1/10\n",
            "3/3 [==============================] - 12s 4s/step - loss: 3.7495 - accuracy: 0.4773 - val_loss: 0.6953 - val_accuracy: 0.6000\n",
            "Epoch 2/10\n",
            "3/3 [==============================] - 5s 1s/step - loss: 0.7501 - accuracy: 0.5455 - val_loss: 0.7011 - val_accuracy: 0.4000\n",
            "Epoch 3/10\n",
            "3/3 [==============================] - 4s 1s/step - loss: 0.7036 - accuracy: 0.4091 - val_loss: 0.6843 - val_accuracy: 0.6000\n",
            "Epoch 4/10\n",
            "3/3 [==============================] - 3s 869ms/step - loss: 0.6807 - accuracy: 0.5682 - val_loss: 0.6891 - val_accuracy: 0.7000\n",
            "Epoch 5/10\n",
            "3/3 [==============================] - 3s 1s/step - loss: 0.6707 - accuracy: 0.7273 - val_loss: 0.6761 - val_accuracy: 0.6000\n",
            "Epoch 6/10\n",
            "3/3 [==============================] - 5s 1s/step - loss: 0.6677 - accuracy: 0.5909 - val_loss: 0.6946 - val_accuracy: 0.5000\n",
            "Epoch 7/10\n",
            "3/3 [==============================] - 4s 1s/step - loss: 0.6453 - accuracy: 0.6136 - val_loss: 0.7754 - val_accuracy: 0.4000\n",
            "Epoch 8/10\n",
            "3/3 [==============================] - 3s 871ms/step - loss: 0.6292 - accuracy: 0.5000 - val_loss: 0.6871 - val_accuracy: 0.5000\n",
            "Epoch 9/10\n",
            "3/3 [==============================] - 3s 959ms/step - loss: 0.6427 - accuracy: 0.6364 - val_loss: 0.6715 - val_accuracy: 0.6000\n",
            "Epoch 10/10\n",
            "3/3 [==============================] - 3s 922ms/step - loss: 0.6254 - accuracy: 0.5909 - val_loss: 0.6742 - val_accuracy: 0.6000\n",
            "1/1 [==============================] - 0s 206ms/step\n",
            "¡Es un gato!\n"
          ]
        }
      ]
    }
  ]
}