{
  "nbformat": 4,
  "nbformat_minor": 0,
  "metadata": {
    "colab": {
      "provenance": [],
      "authorship_tag": "ABX9TyNAIsjG++X0cJVq+o5Sre0n",
      "include_colab_link": true
    },
    "kernelspec": {
      "name": "python3",
      "display_name": "Python 3"
    },
    "language_info": {
      "name": "python"
    }
  },
  "cells": [
    {
      "cell_type": "markdown",
      "metadata": {
        "id": "view-in-github",
        "colab_type": "text"
      },
      "source": [
        "<a href=\"https://colab.research.google.com/github/Uz8351/MyPhython/blob/master/Copia_de_MATRIZ.ipynb\" target=\"_parent\"><img src=\"https://colab.research.google.com/assets/colab-badge.svg\" alt=\"Open In Colab\"/></a>"
      ]
    },
    {
      "cell_type": "code",
      "execution_count": null,
      "metadata": {
        "id": "UFyiRKIXvC1g"
      },
      "outputs": [],
      "source": [
        "import numpy as np\n",
        "\n",
        "Matriz1=([[1,2,3,4,3],\n",
        "          [5,6,7,8,2],\n",
        "          [9,1,4,6,3],\n",
        "          [5,4,3,2,2],\n",
        "          [3,4,5,4,1]])\n",
        "\n",
        "\n",
        "\n",
        "Matriz2=([[4,2,3,4,5],\n",
        "          [5,8,7,7,4],\n",
        "          [9,3,4,6,2],\n",
        "          [5,5,3,1,2],\n",
        "          [5,4,6,7,1]])\n",
        "\n",
        "# Multiplicar las matrices\n",
        "resultado =(Matriz1@Matriz2)\n",
        "\n",
        "# Imprimir el resultado\n",
        "print(\"Matriz resultante:\")\n",
        "print(resultado)"
      ]
    },
    {
      "cell_type": "code",
      "source": [
        "import numpy as np\n",
        "\n",
        "\n",
        "Matriz1 = [[1, 2, 3, 4,3],\n",
        "           [5, 6, 7, 8,2],\n",
        "           [9, 1, 4, 6,1],\n",
        "           [5, 4, 3, 2,5],\n",
        "           [3, 4, 5, 4,6]]\n",
        "\n",
        "Matriz2 = [[4, 2, 3, 4,3],\n",
        "           [5, 8, 7, 7,7],\n",
        "           [9, 3, 4, 6,5],\n",
        "           [5, 5, 3, 1,4],\n",
        "           [5, 4, 6, 7,3]]\n",
        "\n",
        "\n",
        "resultado=(Matriz1@Matriz2)\n",
        "print(resultado)\n",
        "\n"
      ],
      "metadata": {
        "id": "xvSwYHZ65yB_"
      },
      "execution_count": null,
      "outputs": []
    },
    {
      "cell_type": "code",
      "source": [
        "import numpy as np\n",
        "\n",
        "# Definir las matrices\n",
        "Matriz1 = np.array([[1, 2, 3, 4, 3],\n",
        "                   [5, 6, 7, 8, 2],\n",
        "                   [9, 1, 4, 6, 1],\n",
        "                   [5, 4, 3, 2, 5],\n",
        "                   [3, 3, 7, 9, 2],\n",
        "                   [3, 4, 5, 4, 6]])\n",
        "\n",
        "Matriz2 = np.array([[4, 2, 3, 4, 3,3,5],\n",
        "                   [5, 8, 7, 7, 7,6,7],\n",
        "                   [9, 3, 4, 6, 5,8,6],\n",
        "                   [5, 5, 3, 1, 4,9,4],\n",
        "                   [5, 4, 6, 7, 3,7,3]])\n",
        "\n",
        "# Multiplicar las matrices utilizando la notación @\n",
        "resultado = Matriz1 @ Matriz2\n",
        "\n",
        "# Imprimir la matriz resultante\n",
        "print(\"Matriz resultante:\")\n",
        "print(resultado)\n",
        "print(\"Matriz resultante con dot:\")\n",
        "resultado2 = np.dot(Matriz1, Matriz2)\n",
        "print(resultado2)\n"
      ],
      "metadata": {
        "colab": {
          "base_uri": "https://localhost:8080/"
        },
        "id": "shA4Vdz78yXt",
        "outputId": "a0c72b23-58fe-43e9-f892-a3bd286ebd95"
      },
      "execution_count": null,
      "outputs": [
        {
          "output_type": "stream",
          "name": "stdout",
          "text": [
            "Matriz resultante:\n",
            "[[ 76  59  59  61  57  96  62]\n",
            " [163 127 121 126 130 193 147]\n",
            " [112  72  74  80  81 126 103]\n",
            " [102  81  91 103  81 116  94]\n",
            " [145 104  97  98 107 178 120]\n",
            " [127  97 105 116  96 151 107]]\n",
            "Matriz resultante con dot:\n",
            "[[ 76  59  59  61  57  96  62]\n",
            " [163 127 121 126 130 193 147]\n",
            " [112  72  74  80  81 126 103]\n",
            " [102  81  91 103  81 116  94]\n",
            " [145 104  97  98 107 178 120]\n",
            " [127  97 105 116  96 151 107]]\n"
          ]
        }
      ]
    },
    {
      "cell_type": "code",
      "source": [
        "Matriz1 = [\n",
        "    [1, 2, 3, 4, 3],\n",
        "    [5, 6, 7, 8, 2],\n",
        "    [9, 1, 4, 6, 3],\n",
        "    [5, 4, 3, 2, 2],\n",
        "    [3, 4, 5, 4, 1]\n",
        "]\n",
        "\n",
        "# Función para imprimir la matriz\n",
        "def imprimir_matriz(matriz):\n",
        "    for fila in matriz:\n",
        "        print(\" \".join(map(str, fila)))\n",
        "\n",
        "# Solicitar al usuario un índice de fila y columna\n",
        "while True:\n",
        "    try:\n",
        "        fila = int(input(\"Ingrese el índice de la fila (0-4): \"))\n",
        "        columna = int(input(\"Ingrese el índice de la columna (0-4): \"))\n",
        "\n",
        "        if 0 <= fila < 5 and 0 <= columna < 5:\n",
        "            valor = Matriz1[fila][columna]\n",
        "            print(f\"El valor en la fila {fila}, columna {columna} es: {valor}\")\n",
        "        else:\n",
        "            print(\"Índices fuera de rango. Por favor, ingrese valores válidos (0-4).\")\n",
        "    except ValueError:\n",
        "        print(\"Entrada no válida. Ingrese un número entero válido para la fila y la columna.\")\n",
        "    except KeyboardInterrupt:\n",
        "        print(\"\\nPrograma finalizado.\")\n",
        "        break\n",
        "\n",
        "# Imprimir la matriz completa\n",
        "print(\"\\nMatriz completa:\")\n",
        "imprimir_matriz(Matriz1)"
      ],
      "metadata": {
        "id": "mzy7LYj-PISJ"
      },
      "execution_count": null,
      "outputs": []
    },
    {
      "cell_type": "code",
      "source": [
        "\n",
        "\"\"\"\n",
        "Producira error.\n",
        "Matriz1, es de dimensión:6,5\n",
        "Matriz2, es de dimensión:7,5\n",
        "El numero de colunnas de la primera son 6.\n",
        "El numero de filas de la segunda son 7.\n",
        "\n",
        "\"\"\"\n",
        "\n",
        "\n",
        "import numpy as np\n",
        "\n",
        "# Definir las matrices\n",
        "Matriz1 = np.array([[1, 2, 3, 4, 3],\n",
        "                   [5, 6, 7, 8, 2],\n",
        "                   [9, 1, 4, 6, 1],\n",
        "                   [5, 4, 3, 2, 5],\n",
        "                   [3, 3, 7, 9, 2],\n",
        "                   [3, 4, 5, 4, 6]])\n",
        "\n",
        "Matriz2 = np.array([[4, 2, 3, 4, 3],\n",
        "                   [5, 8, 7, 7, 7],\n",
        "                   [9, 3, 4, 6, 5],\n",
        "                   [5, 5, 3, 1, 4],\n",
        "                   [5, 4, 6, 7, 3],\n",
        "                   [3, 2, 5, 7, 3],\n",
        "                   [8, 4, 9, 4, 5]])\n",
        "\n",
        "# Multiplicar las matrices utilizando la notación @\n",
        "resultado = Matriz1 @ Matriz2\n",
        "\n",
        "# Imprimir la matriz resultante\n",
        "print(\"Matriz resultante:\")\n",
        "print(resultado)\n",
        "print(\"Matriz resultante con dot:\")\n",
        "resultado2 = np.dot(Matriz1, Matriz2)\n",
        "print(resultado2)"
      ],
      "metadata": {
        "id": "jXtvIiZfUiZF"
      },
      "execution_count": null,
      "outputs": []
    },
    {
      "cell_type": "code",
      "source": [
        "import numpy as np\n",
        "\n",
        "# Definir las matrices\n",
        "Matriz1 = np.array([[1, 2, 3, 4, 3],\n",
        "                   [5, 6, 7, 8, 2],\n",
        "                   [9, 1, 4, 6, 1],\n",
        "                   [5, 4, 3, 2, 5],\n",
        "                   [3, 3, 7, 9, 2],\n",
        "                   [3, 4, 5, 4, 6]])\n",
        "\n",
        "Matriz2 = np.array([[4, 2, 3, 4, 3],\n",
        "                   [5, 8, 7, 7, 7],\n",
        "                   [9, 3, 4, 6, 5],\n",
        "                   [5, 5, 3, 1, 4],\n",
        "                   [5, 4, 6, 7, 3],\n",
        "                   [3, 2, 5, 7, 3],\n",
        "                   [8, 4, 9, 4, 5]])\n",
        "\n",
        "suma=(Matriz1+Matriz2)#ValueError: operands could not be broadcast together with shapes (6,5) (7,5)\n",
        "print(suma)\n",
        "\n",
        "\n"
      ],
      "metadata": {
        "id": "ts_ouqy_WP5N"
      },
      "execution_count": null,
      "outputs": []
    },
    {
      "cell_type": "code",
      "source": [
        "import numpy as np\n",
        "\n",
        "# Definir las matrices\n",
        "Matriz1 = np.array([[1, 2, 3, 4, 3],\n",
        "                   [5, 6, 7, 8, 2],\n",
        "                   [9, 1, 4, 6, 1],\n",
        "                   [5, 4, 3, 2, 5],\n",
        "                   [3, 3, 7, 9, 2],\n",
        "                   [3, 4, 5, 4, 6]])\n",
        "\n",
        "Matriz2 = np.array([[4, 2, 3, 4, 3],\n",
        "                   [5, 8, 7, 7, 7],\n",
        "                   [9, 3, 4, 6, 5],\n",
        "                   [5, 5, 3, 1, 4],\n",
        "                   [5, 4, 6, 7, 3],\n",
        "                   [3, 2, 5, 7, 3],\n",
        "                   [8, 4, 9, 4, 5]])\n",
        "\n",
        "resta=(Matriz1-Matriz2)#ValueError: operands could not be broadcast together with shapes (6,5) (7,5)\n",
        "print(resta)\n",
        "\n"
      ],
      "metadata": {
        "id": "5drxSCIyW_x_"
      },
      "execution_count": null,
      "outputs": []
    },
    {
      "cell_type": "code",
      "source": [
        "import numpy as np\n",
        "\n",
        "# Definir las matrices\n",
        "Matriz1 = np.array([[1, 2, 3, 4, 3],\n",
        "                   [5, 6, 7, 8, 2],\n",
        "                   [9, 1, 4, 6, 1],\n",
        "                   [5, 4, 3, 2, 5],\n",
        "                   [3, 3, 7, 9, 2],\n",
        "                   [3, 4, 5, 4, 6]])\n",
        "\n",
        "Matriz2 = np.array([[4, 2, 3, 4, 3],\n",
        "                   [5, 8, 7, 7, 7],\n",
        "                   [9, 3, 4, 6, 5],\n",
        "                   [5, 5, 3, 1, 4],\n",
        "                   [5, 4, 6, 7, 3],\n",
        "                   [3, 2, 5, 7, 3],\n",
        "                   [8, 4, 9, 4, 5]])\n",
        "\n",
        "division=(Matriz1/Matriz2)#ValueError: operands could not be broadcast together with shapes (6,5) (7,5)\n",
        "print(division)\n"
      ],
      "metadata": {
        "id": "n_mKs1qxXtw6"
      },
      "execution_count": null,
      "outputs": []
    },
    {
      "cell_type": "code",
      "source": [
        "import numpy as np\n",
        "\n",
        "Matriz2 = np.array([[4, 2, 3, 4, 3],\n",
        "                   [5, 8, 7, 7, 7],\n",
        "                   [9, 3, 4, 6, 5],\n",
        "                   [5, 5, 3, 1, 4],\n",
        "                   [5, 4, 6, 7, 3],\n",
        "                   [3, 2, 5, 7, 3],\n",
        "                   [8, 4, 9, 4, 5],\n",
        "                   [8, 4, 9, 4, 5]])\n",
        "\n",
        "# Obtener las dimensiones de la matriz\n",
        "filas, columnas = Matriz2.shape\n",
        "print(f'filas: {filas}, columnas:{columnas}' )\n",
        "# Recorrer la matriz utilizando un bucle for anidado\n",
        "for i in range(filas):\n",
        "    for j in range(columnas):\n",
        "        elemento = Matriz2[i, j]\n",
        "        print(f\"Matriz2[{i}][{j}] = {elemento}\")\n"
      ],
      "metadata": {
        "id": "I0OcQ1TnarC0"
      },
      "execution_count": null,
      "outputs": []
    },
    {
      "cell_type": "code",
      "source": [
        "import numpy as np\n",
        "np.random.seed(0)\n",
        "X = 2 * np.random.rand(4, 4)\n",
        "y = 4 + 3 * X + np.random.randn(4, 4)\n",
        "print(\"X\\n:\",X)\n",
        "print(\"**************\")\n",
        "print(\"y\\n:\",y)\n",
        "print(\"**************\")\n",
        "valores = X.dot(y)\n",
        "print(valores)\n",
        "\n",
        "\n",
        "\n",
        "\n"
      ],
      "metadata": {
        "colab": {
          "base_uri": "https://localhost:8080/"
        },
        "id": "958oWzpBcv_Y",
        "outputId": "bd815c18-bd29-409a-b3bd-57554f4e4421"
      },
      "execution_count": null,
      "outputs": [
        {
          "output_type": "stream",
          "name": "stdout",
          "text": [
            "X\n",
            ": [[1.09762701 1.43037873 1.20552675 1.08976637]\n",
            " [0.8473096  1.29178823 0.87517442 1.783546  ]\n",
            " [1.92732552 0.76688304 1.58345008 1.05778984]\n",
            " [1.13608912 1.85119328 0.14207212 0.1742586 ]]\n",
            "**************\n",
            "y\n",
            ": [[ 7.73674426  8.62481053  9.11065933  7.06414083]\n",
            " [ 6.8549965   7.02126894  4.07253345 10.0042566 ]\n",
            " [10.64641276  5.55848409 11.02010485  5.71900384]\n",
            " [ 7.45402588  9.36639598  5.95899556  5.99213457]]\n",
            "**************\n",
            "[[39.25498275 36.41798332 35.60431513 35.48810649]\n",
            " [38.02268764 37.9479185  33.25305647 34.60126876]\n",
            " [44.91106113 40.71657005 44.43551389 36.68116974]\n",
            " [24.29104092 25.21815992 20.49362334 28.40199807]]\n"
          ]
        }
      ]
    },
    {
      "cell_type": "code",
      "source": [
        "import numpy as np\n",
        "np.random.seed(0)\n",
        "X = 2 * np.random.rand(4, 2)\n",
        "y = 4 + 3 * X + np.random.randn(4, 4)\n",
        "print(\"X\\n:\",X)\n",
        "print(\"**************\")\n",
        "print(\"y\\n:\",y)\n",
        "print(\"**************\")\n",
        "valores = X.dot(y)#ValueError: operands could not be broadcast together with shapes (4,2) (4,4)\n",
        "print(valores)\n"
      ],
      "metadata": {
        "colab": {
          "base_uri": "https://localhost:8080/",
          "height": 245
        },
        "id": "rsVg_dbdelXS",
        "outputId": "e25801a9-2700-46c9-e25a-f44678b11f66"
      },
      "execution_count": null,
      "outputs": [
        {
          "output_type": "error",
          "ename": "ValueError",
          "evalue": "ignored",
          "traceback": [
            "\u001b[0;31m---------------------------------------------------------------------------\u001b[0m",
            "\u001b[0;31mValueError\u001b[0m                                Traceback (most recent call last)",
            "\u001b[0;32m<ipython-input-20-8872536e29b9>\u001b[0m in \u001b[0;36m<cell line: 4>\u001b[0;34m()\u001b[0m\n\u001b[1;32m      2\u001b[0m \u001b[0mnp\u001b[0m\u001b[0;34m.\u001b[0m\u001b[0mrandom\u001b[0m\u001b[0;34m.\u001b[0m\u001b[0mseed\u001b[0m\u001b[0;34m(\u001b[0m\u001b[0;36m0\u001b[0m\u001b[0;34m)\u001b[0m\u001b[0;34m\u001b[0m\u001b[0;34m\u001b[0m\u001b[0m\n\u001b[1;32m      3\u001b[0m \u001b[0mX\u001b[0m \u001b[0;34m=\u001b[0m \u001b[0;36m2\u001b[0m \u001b[0;34m*\u001b[0m \u001b[0mnp\u001b[0m\u001b[0;34m.\u001b[0m\u001b[0mrandom\u001b[0m\u001b[0;34m.\u001b[0m\u001b[0mrand\u001b[0m\u001b[0;34m(\u001b[0m\u001b[0;36m4\u001b[0m\u001b[0;34m,\u001b[0m \u001b[0;36m2\u001b[0m\u001b[0;34m)\u001b[0m\u001b[0;34m\u001b[0m\u001b[0;34m\u001b[0m\u001b[0m\n\u001b[0;32m----> 4\u001b[0;31m \u001b[0my\u001b[0m \u001b[0;34m=\u001b[0m \u001b[0;36m4\u001b[0m \u001b[0;34m+\u001b[0m \u001b[0;36m3\u001b[0m \u001b[0;34m*\u001b[0m \u001b[0mX\u001b[0m \u001b[0;34m+\u001b[0m \u001b[0mnp\u001b[0m\u001b[0;34m.\u001b[0m\u001b[0mrandom\u001b[0m\u001b[0;34m.\u001b[0m\u001b[0mrandn\u001b[0m\u001b[0;34m(\u001b[0m\u001b[0;36m4\u001b[0m\u001b[0;34m,\u001b[0m \u001b[0;36m4\u001b[0m\u001b[0;34m)\u001b[0m\u001b[0;34m\u001b[0m\u001b[0;34m\u001b[0m\u001b[0m\n\u001b[0m\u001b[1;32m      5\u001b[0m \u001b[0mprint\u001b[0m\u001b[0;34m(\u001b[0m\u001b[0;34m\"X\\n:\"\u001b[0m\u001b[0;34m,\u001b[0m\u001b[0mX\u001b[0m\u001b[0;34m)\u001b[0m\u001b[0;34m\u001b[0m\u001b[0;34m\u001b[0m\u001b[0m\n\u001b[1;32m      6\u001b[0m \u001b[0mprint\u001b[0m\u001b[0;34m(\u001b[0m\u001b[0;34m\"**************\"\u001b[0m\u001b[0;34m)\u001b[0m\u001b[0;34m\u001b[0m\u001b[0;34m\u001b[0m\u001b[0m\n",
            "\u001b[0;31mValueError\u001b[0m: operands could not be broadcast together with shapes (4,2) (4,4) "
          ]
        }
      ]
    },
    {
      "cell_type": "code",
      "source": [
        "import numpy as np\n",
        "np.random.seed(0)\n",
        "X = 2 * np.random.rand(4, 4)\n",
        "y =  X + np.random.randn(4,4)\n",
        "print(\"X\\n:\",X)\n",
        "print(\"**************\")\n",
        "print(\"y\\n:\",y)\n",
        "print(\"**************\")\n",
        "valores = X.dot(y)#\n",
        "print(valores)\n"
      ],
      "metadata": {
        "colab": {
          "base_uri": "https://localhost:8080/"
        },
        "id": "O468Gfoee8Aj",
        "outputId": "e26ae59d-8a5b-4509-cd0b-b92dc44f436e"
      },
      "execution_count": null,
      "outputs": [
        {
          "output_type": "stream",
          "name": "stdout",
          "text": [
            "X\n",
            ": [[1.09762701 1.43037873 1.20552675 1.08976637]\n",
            " [0.8473096  1.29178823 0.87517442 1.783546  ]\n",
            " [1.92732552 0.76688304 1.58345008 1.05778984]\n",
            " [1.13608912 1.85119328 0.14207212 0.1742586 ]]\n",
            "**************\n",
            "y\n",
            ": [[ 1.54149024  1.76405306  2.69960583  0.8846081 ]\n",
            " [ 1.1603773   0.43769249 -1.67781539  2.4371646 ]\n",
            " [ 2.79176172  0.02471802  3.8532047  -0.39657584]\n",
            " [ 1.18184764  1.66400943  1.67485133  1.64361737]]\n",
            "**************\n",
            "[[ 8.00524158  4.40551804  7.0335868   5.7701143 ]\n",
            " [ 7.35623929  5.04957503  6.47942035  6.48223163]\n",
            " [ 9.53158888  5.53487544 11.78932903  4.68459168]\n",
            " [ 4.50193156  3.10785457  0.80032243  5.74672845]]\n"
          ]
        }
      ]
    }
  ]
}