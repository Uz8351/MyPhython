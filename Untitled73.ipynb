{
  "nbformat": 4,
  "nbformat_minor": 0,
  "metadata": {
    "colab": {
      "provenance": [],
      "authorship_tag": "ABX9TyNK9lael4ag+MaDHX4PBNnX",
      "include_colab_link": true
    },
    "kernelspec": {
      "name": "python3",
      "display_name": "Python 3"
    },
    "language_info": {
      "name": "python"
    }
  },
  "cells": [
    {
      "cell_type": "markdown",
      "metadata": {
        "id": "view-in-github",
        "colab_type": "text"
      },
      "source": [
        "<a href=\"https://colab.research.google.com/github/Uz8351/MyPhython/blob/master/Untitled73.ipynb\" target=\"_parent\"><img src=\"https://colab.research.google.com/assets/colab-badge.svg\" alt=\"Open In Colab\"/></a>"
      ]
    },
    {
      "cell_type": "code",
      "execution_count": 9,
      "metadata": {
        "colab": {
          "base_uri": "https://localhost:8080/"
        },
        "id": "lmCg3o2htywi",
        "outputId": "32be6e73-924e-4459-9cb7-607425634d46"
      },
      "outputs": [
        {
          "output_type": "stream",
          "name": "stdout",
          "text": [
            "Introduce la base del triángulo34.64586\n",
            "Introduce la base del triángulo56.4379\n",
            "El area del TRiangulo es: 9831.681579955335\n"
          ]
        }
      ],
      "source": [
        "#Este es un programa didactico para aprender.\n",
        "#Un sencillo programa con funciones en Python.\n",
        "def MiFunción():\n",
        "  BaseTriangulo=float(input(\"Introduce la base del triángulo\"))\n",
        "  AlturaTriangulo=float(input(\"Introduce la base del triángulo\"))\n",
        "  AreaDelTRiangulo=(BaseTriangulo*AlturaTriangulo)/2\n",
        "  return AreaDelTriangulo\n",
        "AreaDelTriangulo=MiFunción()\n",
        "print(\"El area del TRiangulo es:\",AreaDelTriangulo)\n",
        "\n",
        "\n"
      ]
    },
    {
      "cell_type": "code",
      "source": [],
      "metadata": {
        "id": "PFmNV7l3B35f"
      },
      "execution_count": null,
      "outputs": []
    },
    {
      "cell_type": "code",
      "source": [],
      "metadata": {
        "id": "0TGXNJZQB4O1"
      },
      "execution_count": null,
      "outputs": []
    }
  ]
}