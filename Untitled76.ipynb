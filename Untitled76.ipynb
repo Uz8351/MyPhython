{
  "nbformat": 4,
  "nbformat_minor": 0,
  "metadata": {
    "colab": {
      "provenance": [],
      "authorship_tag": "ABX9TyPYSWQ04sCkiLzIJPOOyxvV",
      "include_colab_link": true
    },
    "kernelspec": {
      "name": "python3",
      "display_name": "Python 3"
    },
    "language_info": {
      "name": "python"
    }
  },
  "cells": [
    {
      "cell_type": "markdown",
      "metadata": {
        "id": "view-in-github",
        "colab_type": "text"
      },
      "source": [
        "<a href=\"https://colab.research.google.com/github/Uz8351/MyPhython/blob/master/Untitled76.ipynb\" target=\"_parent\"><img src=\"https://colab.research.google.com/assets/colab-badge.svg\" alt=\"Open In Colab\"/></a>"
      ]
    },
    {
      "cell_type": "code",
      "execution_count": 1,
      "metadata": {
        "colab": {
          "base_uri": "https://localhost:8080/"
        },
        "id": "iFso5sT9Q2e5",
        "outputId": "23f414ad-4432-462c-ecf9-bb8fc5086884"
      },
      "outputs": [
        {
          "output_type": "stream",
          "name": "stdout",
          "text": [
            "Overwriting calculo_cuadrado.py\n"
          ]
        }
      ],
      "source": [
        "%%writefile calculo_cuadrado.py\n",
        "\n",
        "def calcular_area(lado):\n",
        "    area = lado ** 2\n",
        "    return area\n"
      ]
    },
    {
      "cell_type": "code",
      "source": [
        "%%writefile calculo_circulo.py\n",
        "\n",
        "import math\n",
        "\n",
        "def calcular_area(radio):\n",
        "    area = math.pi * radio ** 2\n",
        "    return area\n"
      ],
      "metadata": {
        "colab": {
          "base_uri": "https://localhost:8080/"
        },
        "id": "NZGsPVdnRSYY",
        "outputId": "d5194a3b-ad92-4a6b-906b-cebb20b22f60"
      },
      "execution_count": 2,
      "outputs": [
        {
          "output_type": "stream",
          "name": "stdout",
          "text": [
            "Writing calculo_circulo.py\n"
          ]
        }
      ]
    },
    {
      "cell_type": "code",
      "source": [
        "%%writefile calculo_triangulo.py\n",
        "\n",
        "def calcular_area(base, altura):\n",
        "    area = (base * altura) / 2\n",
        "    return area\n"
      ],
      "metadata": {
        "colab": {
          "base_uri": "https://localhost:8080/"
        },
        "id": "UhY-_TSlRbpz",
        "outputId": "3b329a22-009c-4b0e-ef8d-b982d04a2800"
      },
      "execution_count": 3,
      "outputs": [
        {
          "output_type": "stream",
          "name": "stdout",
          "text": [
            "Writing calculo_triangulo.py\n"
          ]
        }
      ]
    },
    {
      "cell_type": "code",
      "source": [
        "%%writefile main.py\n",
        "\n",
        "import calculo_cuadrado as cc\n",
        "import calculo_circulo as ci\n",
        "import calculo_triangulo as ct\n",
        "\n",
        "def main():\n",
        "    print('Calculadora de áreas de figuras geométricas')\n",
        "    print('-------------------------------------------')\n",
        "    print('Figuras disponibles: cuadrado, círculo, triángulo')\n",
        "    figura = input('Ingresa la figura para la cual deseas calcular el área: ')\n",
        "\n",
        "    if figura == 'cuadrado':\n",
        "        lado = float(input('Ingresa la longitud del lado del cuadrado: '))\n",
        "        area = cc.calcular_area(lado)\n",
        "        print('El área del cuadrado es:', area)\n",
        "    elif figura == 'circulo':\n",
        "        radio = float(input('Ingresa el radio del círculo: '))\n",
        "        area = ci.calcular_area(radio)\n",
        "        print('El área del círculo es:', area)\n",
        "    elif figura == 'triangulo':\n",
        "        base = float(input('Ingresa la longitud de la base del triángulo: '))\n",
        "        altura = float(input('Ingresa la altura del triángulo: '))\n",
        "        area = ct.calcular_area(base, altura)\n",
        "        print('El área del triángulo es:', area)\n",
        "    else:\n",
        "        print('Figura no reconocida.')\n",
        "\n",
        "if __name__ == '__main__':\n",
        "    main()\n"
      ],
      "metadata": {
        "colab": {
          "base_uri": "https://localhost:8080/"
        },
        "id": "L7SXN502RimQ",
        "outputId": "566618e0-1dde-4efd-d891-c2a015d68a73"
      },
      "execution_count": 4,
      "outputs": [
        {
          "output_type": "stream",
          "name": "stdout",
          "text": [
            "Overwriting main.py\n"
          ]
        }
      ]
    },
    {
      "cell_type": "code",
      "source": [
        "%run main.py\n"
      ],
      "metadata": {
        "colab": {
          "base_uri": "https://localhost:8080/"
        },
        "id": "cQXLOE6dRz2M",
        "outputId": "8065145f-3871-4621-f48c-ab7d3a015457"
      },
      "execution_count": 5,
      "outputs": [
        {
          "output_type": "stream",
          "name": "stdout",
          "text": [
            "Calculadora de áreas de figuras geométricas\n",
            "-------------------------------------------\n",
            "Figuras disponibles: cuadrado, círculo, triángulo\n",
            "Ingresa la figura para la cual deseas calcular el área: triangulo\n",
            "Ingresa la longitud de la base del triángulo: 45.567\n",
            "Ingresa la altura del triángulo: 34.567\n",
            "El área del triángulo es: 787.5572445\n"
          ]
        }
      ]
    }
  ]
}