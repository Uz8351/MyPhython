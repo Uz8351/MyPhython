{
  "nbformat": 4,
  "nbformat_minor": 0,
  "metadata": {
    "colab": {
      "provenance": [],
      "authorship_tag": "ABX9TyPceMQEPCoto9A9wbJP4Vhd",
      "include_colab_link": true
    },
    "kernelspec": {
      "name": "python3",
      "display_name": "Python 3"
    },
    "language_info": {
      "name": "python"
    }
  },
  "cells": [
    {
      "cell_type": "markdown",
      "metadata": {
        "id": "view-in-github",
        "colab_type": "text"
      },
      "source": [
        "<a href=\"https://colab.research.google.com/github/Uz8351/MyPhython/blob/master/Untitled137.ipynb\" target=\"_parent\"><img src=\"https://colab.research.google.com/assets/colab-badge.svg\" alt=\"Open In Colab\"/></a>"
      ]
    },
    {
      "cell_type": "code",
      "execution_count": 3,
      "metadata": {
        "colab": {
          "base_uri": "https://localhost:8080/"
        },
        "id": "cVmxY7vmhjjx",
        "outputId": "e4cda30b-c771-46f0-f723-07331470c3e3"
      },
      "outputs": [
        {
          "name": "stdout",
          "output_type": "stream",
          "text": [
            "Ingrese la profundidad en metros (0 o valor negativo para salir): 3456\n",
            "Para una profundidad de 3456.0 metros, la presión absoluta es de 343.97 atmósferas.\n",
            "El espesor requerido de la chapa de la esfera es de 174.26 mm.\n",
            "Ingrese la profundidad en metros (0 o valor negativo para salir): 0\n"
          ]
        }
      ],
      "source": [
        "def calcular_espesor_chapa(densidad_agua, gravedad, profundidad, diametro_esfera, limite_resistencia_acero):\n",
        "    radio_esfera = diametro_esfera / 2\n",
        "    presion_agua_pa = densidad_agua * gravedad * profundidad\n",
        "    presion_absoluta_pa = presion_agua_pa + 101325  # Presión atmosférica al nivel del mar en Pa\n",
        "    espesor_requerido_metros = presion_absoluta_pa * radio_esfera / limite_resistencia_acero\n",
        "    espesor_requerido_mm = espesor_requerido_metros * 1000\n",
        "    presion_absoluta_atm = presion_absoluta_pa / 101325  # Conversión de Pascales a atmósferas\n",
        "    return espesor_requerido_mm, presion_absoluta_atm\n",
        "\n",
        "def main():\n",
        "    densidad_agua = 1025  # kg/m³ (densidad promedio del agua del mar)\n",
        "    gravedad = 9.81  # m/s²\n",
        "    limite_resistencia_acero = 100e6  # Pa (límite de resistencia del acero al carbono)\n",
        "\n",
        "    while True:\n",
        "        profundidad = float(input(\"Ingrese la profundidad en metros (0 o valor negativo para salir): \"))\n",
        "        if profundidad <= 0:\n",
        "            break\n",
        "\n",
        "        diametro_esfera = 1  # metro (diámetro de la esfera)\n",
        "        espesor_requerido_mm, presion_absoluta_atm = calcular_espesor_chapa(densidad_agua, gravedad, profundidad, diametro_esfera, limite_resistencia_acero)\n",
        "\n",
        "        print(f\"Para una profundidad de {profundidad} metros, la presión absoluta es de {presion_absoluta_atm:.2f} atmósferas.\")\n",
        "        print(f\"El espesor requerido de la chapa de la esfera es de {espesor_requerido_mm:.2f} mm.\")\n",
        "\n",
        "if __name__ == \"__main__\":\n",
        "    main()\n"
      ]
    }
  ]
}