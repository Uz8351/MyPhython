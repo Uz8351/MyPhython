{
  "nbformat": 4,
  "nbformat_minor": 0,
  "metadata": {
    "colab": {
      "provenance": [],
      "authorship_tag": "ABX9TyPLNQhgf7+cO4ILETjdUrH6",
      "include_colab_link": true
    },
    "kernelspec": {
      "name": "python3",
      "display_name": "Python 3"
    },
    "language_info": {
      "name": "python"
    }
  },
  "cells": [
    {
      "cell_type": "markdown",
      "metadata": {
        "id": "view-in-github",
        "colab_type": "text"
      },
      "source": [
        "<a href=\"https://colab.research.google.com/github/Uz8351/MyPhython/blob/master/Untitled82.ipynb\" target=\"_parent\"><img src=\"https://colab.research.google.com/assets/colab-badge.svg\" alt=\"Open In Colab\"/></a>"
      ]
    },
    {
      "cell_type": "code",
      "execution_count": 2,
      "metadata": {
        "colab": {
          "base_uri": "https://localhost:8080/"
        },
        "id": "qzcBTpU-dcXf",
        "outputId": "a95de4d6-b378-407a-d179-13af97afd9a3"
      },
      "outputs": [
        {
          "output_type": "stream",
          "name": "stdout",
          "text": [
            "DISPOSITIVOS DE RED DE TU ORDENADOR:\n",
            "-  lo\n",
            "-  eth0\n"
          ]
        }
      ],
      "source": [
        "#Con este sencillo programa detectamos los dispositivos de red\n",
        "\"\"\"\n",
        "Para que funcione correctamente el programa,\n",
        "y comprobarlo en vuestro ordenador, se puede\n",
        "copiar y editar el mismo, por ejemplo, en sublime Text\n",
        "y ejecutarlo bajo consola de linux con este comando:\n",
        "\n",
        "python3 Dispositivos.py\n",
        "\n",
        "siempre que lo hayais guardado con ese nombre.\n",
        "\"\"\"\n",
        "import psutil\n",
        "\n",
        "def detectar_dispositivos_red():\n",
        "    interfaces = psutil.net_if_addrs()\n",
        "    print(\"DISPOSITIVOS DE RED DE TU ORDENADOR:\")\n",
        "    for interface in interfaces:\n",
        "        print(\"- \", interface)\n",
        "\n",
        "detectar_dispositivos_red()\n"
      ]
    }
  ]
}