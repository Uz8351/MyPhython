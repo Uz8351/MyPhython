{
  "nbformat": 4,
  "nbformat_minor": 0,
  "metadata": {
    "colab": {
      "provenance": [],
      "mount_file_id": "10xil_8MJxtw-9hCWHgCOaDnoAag1oIFP",
      "authorship_tag": "ABX9TyO3nqkUfXboxugEZpu83VKj",
      "include_colab_link": true
    },
    "kernelspec": {
      "name": "python3",
      "display_name": "Python 3"
    },
    "language_info": {
      "name": "python"
    }
  },
  "cells": [
    {
      "cell_type": "markdown",
      "metadata": {
        "id": "view-in-github",
        "colab_type": "text"
      },
      "source": [
        "<a href=\"https://colab.research.google.com/github/Uz8351/MyPhython/blob/master/Aula_28_PROYECTO_BASICO_19_EN_23.ipynb\" target=\"_parent\"><img src=\"https://colab.research.google.com/assets/colab-badge.svg\" alt=\"Open In Colab\"/></a>"
      ]
    },
    {
      "cell_type": "code",
      "source": [
        "import tensorflow as tf\n",
        "from tensorflow.keras import layers, models\n",
        "from google.colab import drive\n",
        "import numpy as np\n",
        "import pickle\n",
        "\n",
        "# Montar Google Drive\n",
        "drive.mount('/content/drive')\n",
        "\n",
        "# Ruta al archivo data_batch_1\n",
        "data_directory = '/content/drive/MyDrive/druida/cifar-10/data_batch_1'\n",
        "\n",
        "# Cargar el conjunto de datos CIFAR-10 desde la ubicación en Google Drive\n",
        "with open(data_directory, 'rb') as file:\n",
        "    cifar_data = pickle.load(file, encoding='bytes')\n",
        "\n",
        "# Normalizar los valores de píxeles al rango [0, 1]\n",
        "x_train, x_test = cifar_data[b'data'] / 255.0, cifar_data[b'data'] / 255.0\n",
        "y_train, y_test = np.array(cifar_data[b'labels']), np.array(cifar_data[b'labels'])  # Convertir a numpy array\n",
        "\n",
        "# Reformatear los datos para que coincidan con las expectativas del modelo\n",
        "x_train = x_train.reshape((len(x_train), 32, 32, 3))\n",
        "x_test = x_test.reshape((len(x_test), 32, 32, 3))\n",
        "\n",
        "# Definir el modelo de red convolucional\n",
        "model = models.Sequential([\n",
        "    layers.Conv2D(32, (3, 3), activation='relu', input_shape=(32, 32, 3)),\n",
        "    layers.MaxPooling2D((2, 2)),\n",
        "    layers.Flatten(),\n",
        "    layers.Dense(128, activation='relu'),\n",
        "    layers.Dense(10)\n",
        "])\n",
        "\n",
        "# Compilar el modelo\n",
        "model.compile(optimizer='adam',\n",
        "              loss=tf.keras.losses.SparseCategoricalCrossentropy(from_logits=True),\n",
        "              metrics=['accuracy'])\n",
        "\n",
        "# Entrenar el modelo\n",
        "model.fit(x_train, y_train, epochs=10)\n",
        "\n",
        "# Evaluar el modelo en el conjunto de\n",
        "# Guardar el modelo entrenado\n",
        "model.save('/content/drive/MyDrive/druida/cifar-10/Mi_Modulo_Hilario.h5')"
      ],
      "metadata": {
        "id": "Bx_GF6KinU-o"
      },
      "execution_count": null,
      "outputs": []
    },
    {
      "cell_type": "code",
      "source": [
        "import tensorflow as tf\n",
        "from tensorflow.keras.models import load_model\n",
        "from google.colab import drive\n",
        "import numpy as np\n",
        "import pickle\n",
        "\n",
        "# Montar Google Drive\n",
        "drive.mount('/content/drive')\n",
        "\n",
        "# Ruta al archivo data_batch_1\n",
        "data_directory = '/content/drive/MyDrive/druida/cifar-10/data_batch_1'\n",
        "\n",
        "# Cargar el conjunto de datos CIFAR-10 desde la ubicación en Google Drive\n",
        "with open(data_directory, 'rb') as file:\n",
        "    cifar_data = pickle.load(file, encoding='bytes')\n",
        "\n",
        "# Normalizar los valores de píxeles al rango [0, 1]\n",
        "x_test = cifar_data[b'data'] / 255.0\n",
        "y_test = np.array(cifar_data[b'labels'])\n",
        "\n",
        "# Reformatear los datos para que coincidan con las expectativas del modelo\n",
        "x_test = x_test.reshape((len(x_test), 32, 32, 3))\n",
        "\n",
        "# Cargar el modelo entrenado\n",
        "loaded_model = load_model('/content/drive/MyDrive/druida/cifar-10/Mi_Modulo_Hilario.h5')\n",
        "\n",
        "# Realizar predicciones en el conjunto de prueba\n",
        "predictions = loaded_model.predict(x_test)\n",
        "\n",
        "# Convertir las probabilidades a etiquetas predichas\n",
        "predicted_labels = np.argmax(predictions, axis=1)\n",
        "\n",
        "# Evaluar la precisión en el conjunto de prueba\n",
        "accuracy = np.mean(predicted_labels == y_test)\n",
        "print(f'Accuracy on test set: {accuracy}')\n"
      ],
      "metadata": {
        "colab": {
          "base_uri": "https://localhost:8080/"
        },
        "id": "pqROCb0VqXoc",
        "outputId": "675d8bc2-90e4-44e7-b5e9-01d5a62fc54d"
      },
      "execution_count": 12,
      "outputs": [
        {
          "output_type": "stream",
          "name": "stdout",
          "text": [
            "Drive already mounted at /content/drive; to attempt to forcibly remount, call drive.mount(\"/content/drive\", force_remount=True).\n",
            "313/313 [==============================] - 4s 13ms/step\n",
            "Accuracy on test set: 0.8106\n"
          ]
        }
      ]
    },
    {
      "cell_type": "code",
      "source": [
        "import tensorflow as tf\n",
        "from tensorflow.keras import layers, models\n",
        "from tensorflow.keras.datasets import cifar10\n",
        "from tensorflow.keras.preprocessing.image import ImageDataGenerator\n",
        "from google.colab import drive\n",
        "import numpy as np\n",
        "import pickle\n",
        "\n",
        "# Montar Google Drive\n",
        "drive.mount('/content/drive')\n",
        "\n",
        "# Ruta al archivo data_batch_1\n",
        "data_directory = '/content/drive/MyDrive/druida/cifar-10/data_batch_1'\n",
        "\n",
        "# Cargar el conjunto de datos CIFAR-10 desde la ubicación en Google Drive\n",
        "with open(data_directory, 'rb') as file:\n",
        "    cifar_data = pickle.load(file, encoding='bytes')\n",
        "\n",
        "# Normalizar los valores de píxeles al rango [0, 1]\n",
        "x_train, x_test = cifar_data[b'data'] / 255.0, cifar_data[b'data'] / 255.0\n",
        "y_train, y_test = np.array(cifar_data[b'labels']), np.array(cifar_data[b'labels'])\n",
        "\n",
        "# Reformatear los datos para que coincidan con las expectativas del modelo\n",
        "x_train = x_train.reshape((len(x_train), 32, 32, 3))\n",
        "x_test = x_test.reshape((len(x_test), 32, 32, 3))\n",
        "\n",
        "# Definir el modelo de red convolucional\n",
        "model = models.Sequential([\n",
        "    layers.Conv2D(32, (3, 3), activation='relu', input_shape=(32, 32, 3)),\n",
        "    layers.MaxPooling2D((2, 2)),\n",
        "    layers.Flatten(),\n",
        "    layers.Dense(128, activation='relu'),\n",
        "    layers.Dense(10)\n",
        "])\n",
        "\n",
        "# Compilar el modelo\n",
        "model.compile(optimizer='adam',\n",
        "              loss=tf.keras.losses.SparseCategoricalCrossentropy(from_logits=True),\n",
        "              metrics=['accuracy'])\n",
        "\n",
        "# Crear un generador de aumento de datos\n",
        "datagen = ImageDataGenerator(\n",
        "    rotation_range=20,\n",
        "    width_shift_range=0.2,\n",
        "    height_shift_range=0.2,\n",
        "    horizontal_flip=True\n",
        ")\n",
        "\n",
        "# Ajustar el generador de aumento de datos a tus datos de entrenamiento\n",
        "datagen.fit(x_train)\n",
        "\n",
        "# Entrenar el modelo utilizando el generador de aumento de datos\n",
        "model.fit(datagen.flow(x_train, y_train, batch_size=32), epochs=10)\n",
        "\n",
        "# Evaluar el modelo en el conjunto de prueba\n",
        "test_loss, test_acc = model.evaluate(x_test, y_test, verbose=2)\n",
        "print(f'\\nAccuracy on test set: {test_acc}')\n",
        "\n",
        "# Guardar el modelo entrenado\n",
        "model.save('/content/drive/MyDrive/druida/cifar-10/Mi_Modulo_Hilario.h5')\n"
      ],
      "metadata": {
        "colab": {
          "base_uri": "https://localhost:8080/"
        },
        "id": "emgNnXW5spSG",
        "outputId": "5ba3850b-766d-4e2e-b779-bc01df573309"
      },
      "execution_count": 13,
      "outputs": [
        {
          "output_type": "stream",
          "name": "stdout",
          "text": [
            "Drive already mounted at /content/drive; to attempt to forcibly remount, call drive.mount(\"/content/drive\", force_remount=True).\n",
            "Epoch 1/10\n",
            "313/313 [==============================] - 17s 52ms/step - loss: 2.1401 - accuracy: 0.1980\n",
            "Epoch 2/10\n",
            "313/313 [==============================] - 17s 53ms/step - loss: 1.9575 - accuracy: 0.2800\n",
            "Epoch 3/10\n",
            "313/313 [==============================] - 16s 50ms/step - loss: 1.9083 - accuracy: 0.2948\n",
            "Epoch 4/10\n",
            "313/313 [==============================] - 16s 51ms/step - loss: 1.8825 - accuracy: 0.3065\n",
            "Epoch 5/10\n",
            "313/313 [==============================] - 16s 52ms/step - loss: 1.8586 - accuracy: 0.3202\n",
            "Epoch 6/10\n",
            "313/313 [==============================] - 16s 52ms/step - loss: 1.8425 - accuracy: 0.3210\n",
            "Epoch 7/10\n",
            "313/313 [==============================] - 16s 52ms/step - loss: 1.8226 - accuracy: 0.3311\n",
            "Epoch 8/10\n",
            "313/313 [==============================] - 16s 52ms/step - loss: 1.8119 - accuracy: 0.3324\n",
            "Epoch 9/10\n",
            "313/313 [==============================] - 16s 52ms/step - loss: 1.8032 - accuracy: 0.3412\n",
            "Epoch 10/10\n",
            "313/313 [==============================] - 16s 52ms/step - loss: 1.7926 - accuracy: 0.3408\n",
            "313/313 - 3s - loss: 1.7881 - accuracy: 0.3479 - 3s/epoch - 11ms/step\n",
            "\n",
            "Accuracy on test set: 0.34790000319480896\n"
          ]
        }
      ]
    }
  ]
}