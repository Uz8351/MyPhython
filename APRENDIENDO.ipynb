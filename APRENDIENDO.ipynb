{
  "nbformat": 4,
  "nbformat_minor": 0,
  "metadata": {
    "colab": {
      "provenance": [],
      "mount_file_id": "13_CcVzxvYgjjH6MoWpRD9pMOTxYiW88N",
      "authorship_tag": "ABX9TyMG0vOEylzrWmgmwSLpL1Rn",
      "include_colab_link": true
    },
    "kernelspec": {
      "name": "python3",
      "display_name": "Python 3"
    },
    "language_info": {
      "name": "python"
    }
  },
  "cells": [
    {
      "cell_type": "markdown",
      "metadata": {
        "id": "view-in-github",
        "colab_type": "text"
      },
      "source": [
        "<a href=\"https://colab.research.google.com/github/Uz8351/MyPhython/blob/master/APRENDIENDO.ipynb\" target=\"_parent\"><img src=\"https://colab.research.google.com/assets/colab-badge.svg\" alt=\"Open In Colab\"/></a>"
      ]
    },
    {
      "cell_type": "code",
      "execution_count": 15,
      "metadata": {
        "colab": {
          "base_uri": "https://localhost:8080/"
        },
        "id": "tNGk6X-Zz2cB",
        "outputId": "da388760-f15c-43f2-e917-bdbdc2d4c917"
      },
      "outputs": [
        {
          "output_type": "stream",
          "name": "stdout",
          "text": [
            "[[[252 240 192]\n",
            "  [248 236 188]\n",
            "  [242 230 182]\n",
            "  ...\n",
            "  [ 52  56  30]\n",
            "  [ 56  60  34]\n",
            "  [ 58  62  36]]\n",
            "\n",
            " [[254 242 194]\n",
            "  [250 238 190]\n",
            "  [244 232 184]\n",
            "  ...\n",
            "  [ 50  54  28]\n",
            "  [ 52  56  30]\n",
            "  [ 54  58  32]]\n",
            "\n",
            " [[  4 248 204]\n",
            "  [  0 244 200]\n",
            "  [248 236 188]\n",
            "  ...\n",
            "  [ 44  48  22]\n",
            "  [ 48  52  26]\n",
            "  [ 48  52  26]]\n",
            "\n",
            " ...\n",
            "\n",
            " [[ 44  58 232]\n",
            "  [ 36  50 224]\n",
            "  [ 22  40 210]\n",
            "  ...\n",
            "  [140 102  68]\n",
            "  [140 102  68]\n",
            "  [142 104  70]]\n",
            "\n",
            " [[ 48  62 236]\n",
            "  [ 38  52 226]\n",
            "  [ 26  44 214]\n",
            "  ...\n",
            "  [140 102  68]\n",
            "  [140 102  68]\n",
            "  [142 104  70]]\n",
            "\n",
            " [[ 50  64 238]\n",
            "  [ 42  56 230]\n",
            "  [ 28  46 216]\n",
            "  ...\n",
            "  [140 102  68]\n",
            "  [140 102  68]\n",
            "  [142 104  70]]]\n"
          ]
        }
      ],
      "source": [
        "import keras\n",
        "import matplotlib.pyplot as plt\n",
        "keras.layers.Dense(512, activation='relu')\n",
        "x = plt.imread('/content/drive/MyDrive/druida/flores/flores1/image_00001.jpg')\n",
        "y=plt.imread('/content/drive/MyDrive/druida/flores/flores1/image_00001.jpg')\n",
        "def naive_add(x, y):\n",
        "    assert len(x.shape) == 3\n",
        "    assert x.shape == y.shape\n",
        "    x = x.copy()\n",
        "    for i in range(x.shape[0]):\n",
        "        for j in range(x.shape[1]):\n",
        "            x[i, j] += y[i, j]\n",
        "    return x\n",
        "print(naive_add(x,y))\n",
        "\n",
        "\n",
        "\n",
        "\n",
        "\n",
        "\n",
        "\n",
        "\n"
      ]
    }
  ]
}