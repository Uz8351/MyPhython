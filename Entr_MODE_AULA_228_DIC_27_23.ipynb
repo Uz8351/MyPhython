{
  "nbformat": 4,
  "nbformat_minor": 0,
  "metadata": {
    "colab": {
      "provenance": [],
      "mount_file_id": "1KoeXIIGtKkNzq_EvHMz2U3FEbdH2S5RR",
      "authorship_tag": "ABX9TyN9WxX2EIVpAVQWIc/pVGfV",
      "include_colab_link": true
    },
    "kernelspec": {
      "name": "python3",
      "display_name": "Python 3"
    },
    "language_info": {
      "name": "python"
    }
  },
  "cells": [
    {
      "cell_type": "markdown",
      "metadata": {
        "id": "view-in-github",
        "colab_type": "text"
      },
      "source": [
        "<a href=\"https://colab.research.google.com/github/Uz8351/MyPhython/blob/master/Entr_MODE_AULA_228_DIC_27_23.ipynb\" target=\"_parent\"><img src=\"https://colab.research.google.com/assets/colab-badge.svg\" alt=\"Open In Colab\"/></a>"
      ]
    },
    {
      "cell_type": "code",
      "source": [
        "import tensorflow as tf\n",
        "from tensorflow.keras import layers, models\n",
        "from tensorflow.keras.datasets import mnist\n",
        "from tensorflow.keras.utils import to_categorical\n",
        "import matplotlib.pyplot as plt\n",
        "\n",
        "# Cargar y preprocesar el conjunto de datos MNIST\n",
        "(train_images, train_labels), (test_images, test_labels) = mnist.load_data()\n",
        "train_images = train_images.reshape((60000, 28, 28, 1)).astype('float32') / 255\n",
        "test_images = test_images.reshape((10000, 28, 28, 1)).astype('float32') / 255\n",
        "\n",
        "train_labels = to_categorical(train_labels)\n",
        "test_labels = to_categorical(test_labels)\n",
        "\n",
        "# Construir el modelo de la red neuronal convolucional (CNN)\n",
        "model = models.Sequential()\n",
        "model.add(layers.Conv2D(32, (3, 3), activation='relu', input_shape=(28, 28, 1)))\n",
        "model.add(layers.MaxPooling2D((2, 2)))\n",
        "model.add(layers.Conv2D(64, (3, 3), activation='relu'))\n",
        "model.add(layers.MaxPooling2D((2, 2)))\n",
        "model.add(layers.Conv2D(64, (3, 3), activation='relu'))\n",
        "model.add(layers.Flatten())\n",
        "model.add(layers.Dense(64, activation='relu'))\n",
        "model.add(layers.Dense(10, activation='softmax'))\n",
        "\n",
        "# Compilar el modelo\n",
        "model.compile(optimizer='adam',\n",
        "              loss='categorical_crossentropy',\n",
        "              metrics=['accuracy'])\n",
        "\n",
        "# Entrenar el modelo\n",
        "model.fit(train_images, train_labels, epochs=5, batch_size=64, validation_split=0.2)\n",
        "\n",
        "# Guardar el modelo entrenado\n",
        "model.save('/content/drive/MyDrive/mnist_model.h5')  # Cambia la ruta según tu preferencia\n",
        "\n",
        "# Cargar el modelo\n",
        "mnist_model = tf.keras.models.load_model('/content/drive/MyDrive/mnist_model.h5')  # Cambia la ruta según tu preferencia\n",
        "\n",
        "# Realizar predicciones en una imagen específica\n",
        "img_path = '/content/drive/MyDrive/druida/cinco.jpg'\n",
        "img = tf.keras.preprocessing.image.load_img(img_path, target_size=(28, 28), color_mode='grayscale')\n",
        "img_array = tf.keras.preprocessing.image.img_to_array(img)\n",
        "img_array = tf.expand_dims(img_array, 0)\n",
        "img_array = img_array / 255.0\n",
        "\n",
        "# Hacer la predicción\n",
        "predictions = mnist_model.predict(img_array)\n",
        "\n",
        "# Obtener el número predicho\n",
        "predicted_number = tf.argmax(predictions[0]).numpy()\n",
        "\n",
        "# Mostrar la predicción\n",
        "print(f'Número predicho: {predicted_number}')\n",
        "# Mostrar la predicción junto con la imagen\n",
        "plt.imshow(img, cmap='gray')\n",
        "plt.title(f'Número predicho: {predicted_number}')\n",
        "plt.show()"
      ],
      "metadata": {
        "colab": {
          "base_uri": "https://localhost:8080/",
          "height": 699
        },
        "id": "4JqgU-QDQosN",
        "outputId": "d342a2c4-ca92-4565-fe0c-d52c718c1828"
      },
      "execution_count": 10,
      "outputs": [
        {
          "output_type": "stream",
          "name": "stdout",
          "text": [
            "Epoch 1/5\n",
            "750/750 [==============================] - 50s 62ms/step - loss: 0.2112 - accuracy: 0.9358 - val_loss: 0.0684 - val_accuracy: 0.9799\n",
            "Epoch 2/5\n",
            "750/750 [==============================] - 46s 61ms/step - loss: 0.0550 - accuracy: 0.9824 - val_loss: 0.0659 - val_accuracy: 0.9806\n",
            "Epoch 3/5\n",
            "750/750 [==============================] - 46s 62ms/step - loss: 0.0395 - accuracy: 0.9873 - val_loss: 0.0377 - val_accuracy: 0.9880\n",
            "Epoch 4/5\n",
            "750/750 [==============================] - 45s 60ms/step - loss: 0.0287 - accuracy: 0.9913 - val_loss: 0.0646 - val_accuracy: 0.9828\n",
            "Epoch 5/5\n",
            "750/750 [==============================] - 43s 57ms/step - loss: 0.0256 - accuracy: 0.9916 - val_loss: 0.0404 - val_accuracy: 0.9877\n"
          ]
        },
        {
          "output_type": "stream",
          "name": "stderr",
          "text": [
            "WARNING:tensorflow:6 out of the last 6 calls to <function Model.make_predict_function.<locals>.predict_function at 0x787a1062e680> triggered tf.function retracing. Tracing is expensive and the excessive number of tracings could be due to (1) creating @tf.function repeatedly in a loop, (2) passing tensors with different shapes, (3) passing Python objects instead of tensors. For (1), please define your @tf.function outside of the loop. For (2), @tf.function has reduce_retracing=True option that can avoid unnecessary retracing. For (3), please refer to https://www.tensorflow.org/guide/function#controlling_retracing and https://www.tensorflow.org/api_docs/python/tf/function for  more details.\n"
          ]
        },
        {
          "output_type": "stream",
          "name": "stdout",
          "text": [
            "1/1 [==============================] - 0s 82ms/step\n",
            "Número predicho: 8\n"
          ]
        },
        {
          "output_type": "display_data",
          "data": {
            "text/plain": [
              "<Figure size 640x480 with 1 Axes>"
            ],
            "image/png": "[encoded data removed]"
          },
          "metadata": {}
        }
      ]
    }
  ]
}