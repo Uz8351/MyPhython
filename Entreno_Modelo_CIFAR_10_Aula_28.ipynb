{
  "nbformat": 4,
  "nbformat_minor": 0,
  "metadata": {
    "colab": {
      "provenance": [],
      "mount_file_id": "1fJcSy0LBTtcGDlpQP1-sYcIIeqo6xjx6",
      "authorship_tag": "ABX9TyP0TdQGJYii0EJnWInd8iPi",
      "include_colab_link": true
    },
    "kernelspec": {
      "name": "python3",
      "display_name": "Python 3"
    },
    "language_info": {
      "name": "python"
    }
  },
  "cells": [
    {
      "cell_type": "markdown",
      "metadata": {
        "id": "view-in-github",
        "colab_type": "text"
      },
      "source": [
        "<a href=\"https://colab.research.google.com/github/Uz8351/MyPhython/blob/master/Entreno_Modelo_CIFAR_10_Aula_28.ipynb\" target=\"_parent\"><img src=\"https://colab.research.google.com/assets/colab-badge.svg\" alt=\"Open In Colab\"/></a>"
      ]
    },
    {
      "cell_type": "code",
      "source": [
        "import pickle\n",
        "import numpy as np\n",
        "from tensorflow.keras import layers, models, datasets\n",
        "from tensorflow.keras.utils import to_categorical\n",
        "\n",
        "# Cargar los datos CIFAR-10 de Keras\n",
        "(x_train, y_train), (x_test, y_test) = datasets.cifar10.load_data()\n",
        "\n",
        "# Normalizar datos y convertir etiquetas a one-hot encoding\n",
        "x_train = x_train / 255.0\n",
        "x_test = x_test / 255.0\n",
        "y_train = to_categorical(y_train, 10)\n",
        "y_test = to_categorical(y_test, 10)\n",
        "\n",
        "# Definir la arquitectura de la CNN\n",
        "model = models.Sequential()\n",
        "model.add(layers.Conv2D(32, (3, 3), activation='relu', input_shape=(32, 32, 3)))\n",
        "model.add(layers.MaxPooling2D((2, 2)))\n",
        "model.add(layers.Conv2D(64, (3, 3), activation='relu'))\n",
        "model.add(layers.MaxPooling2D((2, 2)))\n",
        "model.add(layers.Conv2D(64, (3, 3), activation='relu'))\n",
        "model.add(layers.Flatten())\n",
        "model.add(layers.Dense(64, activation='relu'))\n",
        "model.add(layers.Dense(10, activation='softmax'))\n",
        "\n",
        "# Compilar el modelo\n",
        "model.compile(optimizer='adam',\n",
        "              loss='categorical_crossentropy',\n",
        "              metrics=['accuracy'])\n",
        "\n",
        "# Imprimir resumen del modelo\n",
        "model.summary()\n",
        "\n",
        "# Entrenar el modelo\n",
        "history = model.fit(x_train, y_train, epochs=10, batch_size=64, validation_data=(x_test, y_test))\n",
        "\n",
        "# Guardar el modelo en formato .h5\n",
        "model.save('/content/drive/MyDrive/druida/modelo_HILARIO-cifar10.h5')\n"
      ],
      "metadata": {
        "colab": {
          "base_uri": "https://localhost:8080/"
        },
        "id": "pLCUd9YZ-rJl",
        "outputId": "f7d89fe0-59df-48c6-9cc2-413d339e5cac"
      },
      "execution_count": 8,
      "outputs": [
        {
          "output_type": "stream",
          "name": "stdout",
          "text": [
            "Model: \"sequential_5\"\n",
            "_________________________________________________________________\n",
            " Layer (type)                Output Shape              Param #   \n",
            "=================================================================\n",
            " conv2d_15 (Conv2D)          (None, 30, 30, 32)        896       \n",
            "                                                                 \n",
            " max_pooling2d_10 (MaxPooli  (None, 15, 15, 32)        0         \n",
            " ng2D)                                                           \n",
            "                                                                 \n",
            " conv2d_16 (Conv2D)          (None, 13, 13, 64)        18496     \n",
            "                                                                 \n",
            " max_pooling2d_11 (MaxPooli  (None, 6, 6, 64)          0         \n",
            " ng2D)                                                           \n",
            "                                                                 \n",
            " conv2d_17 (Conv2D)          (None, 4, 4, 64)          36928     \n",
            "                                                                 \n",
            " flatten_5 (Flatten)         (None, 1024)              0         \n",
            "                                                                 \n",
            " dense_10 (Dense)            (None, 64)                65600     \n",
            "                                                                 \n",
            " dense_11 (Dense)            (None, 10)                650       \n",
            "                                                                 \n",
            "=================================================================\n",
            "Total params: 122570 (478.79 KB)\n",
            "Trainable params: 122570 (478.79 KB)\n",
            "Non-trainable params: 0 (0.00 Byte)\n",
            "_________________________________________________________________\n",
            "Epoch 1/10\n",
            "782/782 [==============================] - 39s 48ms/step - loss: 1.5974 - accuracy: 0.4167 - val_loss: 1.3879 - val_accuracy: 0.4954\n",
            "Epoch 2/10\n",
            "782/782 [==============================] - 37s 47ms/step - loss: 1.2175 - accuracy: 0.5662 - val_loss: 1.1192 - val_accuracy: 0.6021\n",
            "Epoch 3/10\n",
            "782/782 [==============================] - 37s 47ms/step - loss: 1.0558 - accuracy: 0.6270 - val_loss: 1.0860 - val_accuracy: 0.6154\n",
            "Epoch 4/10\n",
            "782/782 [==============================] - 37s 47ms/step - loss: 0.9547 - accuracy: 0.6619 - val_loss: 0.9850 - val_accuracy: 0.6475\n",
            "Epoch 5/10\n",
            "782/782 [==============================] - 37s 47ms/step - loss: 0.8876 - accuracy: 0.6885 - val_loss: 0.9331 - val_accuracy: 0.6695\n",
            "Epoch 6/10\n",
            "782/782 [==============================] - 39s 49ms/step - loss: 0.8333 - accuracy: 0.7080 - val_loss: 0.9249 - val_accuracy: 0.6765\n",
            "Epoch 7/10\n",
            "782/782 [==============================] - 39s 50ms/step - loss: 0.7885 - accuracy: 0.7238 - val_loss: 0.9008 - val_accuracy: 0.6896\n",
            "Epoch 8/10\n",
            "782/782 [==============================] - 40s 51ms/step - loss: 0.7470 - accuracy: 0.7390 - val_loss: 0.8799 - val_accuracy: 0.6966\n",
            "Epoch 9/10\n",
            "782/782 [==============================] - 39s 50ms/step - loss: 0.7061 - accuracy: 0.7533 - val_loss: 0.8933 - val_accuracy: 0.6963\n",
            "Epoch 10/10\n",
            "782/782 [==============================] - 39s 50ms/step - loss: 0.6758 - accuracy: 0.7648 - val_loss: 0.8354 - val_accuracy: 0.7149\n"
          ]
        },
        {
          "output_type": "stream",
          "name": "stderr",
          "text": [
            "/usr/local/lib/python3.10/dist-packages/keras/src/engine/training.py:3103: UserWarning: You are saving your model as an HDF5 file via `model.save()`. This file format is considered legacy. We recommend using instead the native Keras format, e.g. `model.save('my_model.keras')`.\n",
            "  saving_api.save_model(\n"
          ]
        }
      ]
    }
  ]
}