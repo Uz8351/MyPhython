{
  "nbformat": 4,
  "nbformat_minor": 0,
  "metadata": {
    "colab": {
      "provenance": [],
      "authorship_tag": "ABX9TyPBjIfdbzJa2z5d014jtIE/",
      "include_colab_link": true
    },
    "kernelspec": {
      "name": "python3",
      "display_name": "Python 3"
    },
    "language_info": {
      "name": "python"
    }
  },
  "cells": [
    {
      "cell_type": "markdown",
      "metadata": {
        "id": "view-in-github",
        "colab_type": "text"
      },
      "source": [
        "<a href=\"https://colab.research.google.com/github/Uz8351/MyPhython/blob/master/Untitled83.ipynb\" target=\"_parent\"><img src=\"https://colab.research.google.com/assets/colab-badge.svg\" alt=\"Open In Colab\"/></a>"
      ]
    },
    {
      "cell_type": "code",
      "execution_count": 4,
      "metadata": {
        "colab": {
          "base_uri": "https://localhost:8080/"
        },
        "id": "C91daNi7W-6z",
        "outputId": "53ba9ff7-bca8-41aa-c44f-1291195bc2c2"
      },
      "outputs": [
        {
          "output_type": "stream",
          "name": "stdout",
          "text": [
            "Introduzca la IP:31.13.83.36\n",
            "La DNS para la IP 31.13.83.36 es: edge-star-mini-shv-01-mad1.facebook.com\n"
          ]
        }
      ],
      "source": [
        "\n",
        "#Optener una DNS, de una IP introducida.\n",
        "\n",
        "import socket\n",
        "\"\"\"\n",
        "import socket, importa el módulo socket\n",
        "\"\"\"\n",
        "def OptenerDNSdeIP(IP):\n",
        "  try:\n",
        "    El_Host=socket.gethostbyaddr(IP)\n",
        "    return El_Host[0]\n",
        "  except socket.herror:\n",
        "    return \"No se pudo optener DNS para la IP introducida\"\n",
        "#Ahora le pedimos al usuario que introduzca la IP\n",
        "IP=input(\"Introduzca la IP:\")\n",
        "DNS=OptenerDNSdeIP(IP)\n",
        "print(\"La DNS para la IP {} es: {}\".format(IP,DNS) )\n",
        "\n",
        "\n",
        "\n",
        "\n"
      ]
    }
  ]
}