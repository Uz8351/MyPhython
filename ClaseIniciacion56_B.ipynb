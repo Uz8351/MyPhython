{
  "nbformat": 4,
  "nbformat_minor": 0,
  "metadata": {
    "colab": {
      "provenance": [],
      "authorship_tag": "ABX9TyNXBplTks7MO0ElUecoOy7i",
      "include_colab_link": true
    },
    "kernelspec": {
      "name": "python3",
      "display_name": "Python 3"
    },
    "language_info": {
      "name": "python"
    }
  },
  "cells": [
    {
      "cell_type": "markdown",
      "metadata": {
        "id": "view-in-github",
        "colab_type": "text"
      },
      "source": [
        "<a href=\"https://colab.research.google.com/github/Uz8351/MyPhython/blob/master/ClaseIniciacion56_B.ipynb\" target=\"_parent\"><img src=\"https://colab.research.google.com/assets/colab-badge.svg\" alt=\"Open In Colab\"/></a>"
      ]
    },
    {
      "cell_type": "code",
      "execution_count": 34,
      "metadata": {
        "colab": {
          "base_uri": "https://localhost:8080/",
          "height": 1000
        },
        "id": "QyL6ZLUkMTMR",
        "outputId": "0196f81a-0149-4fd1-beb8-a72ba45fe2f4"
      },
      "outputs": [
        {
          "output_type": "stream",
          "name": "stdout",
          "text": [
            "0.6698696776851044\n",
            "********************\n",
            "0.5265437445063627\n",
            "0.6847901052709111\n",
            "********************\n",
            "0.5451871395654598\n",
            "0.6892927548303528\n",
            "********************\n",
            "0.5620000557207616\n",
            "0.6895586929499905\n",
            "********************\n",
            "0.5780368393267658\n",
            "0.6881047394007274\n",
            "********************\n",
            "0.593726907152039\n",
            "0.6859556878473014\n",
            "********************\n",
            "0.6092452136983117\n",
            "0.6835288014339826\n",
            "********************\n",
            "0.6246630999192629\n",
            "0.6809939660772139\n",
            "********************\n",
            "0.6400097165500194\n",
            "0.6784203394666865\n",
            "********************\n",
            "0.6552970347637834\n",
            "0.675836064331649\n",
            "********************\n",
            "0.670530030135993\n",
            "0.6732525827842057\n",
            "********************\n",
            "0.685710829402412\n",
            "0.6706745367538393\n",
            "********************\n",
            "0.7008403989577529\n",
            "****************ESLOPE*************************\n",
            "0.6706745367538393\n",
            "*****************INTERCEPT**********************\n",
            "0.7008403989577529\n",
            "****************PREDICTIONS********************\n",
            "[1.35896341 2.03221599 2.70546858 3.37872116 4.05197374 2.70546858\n",
            " 4.05197374 3.37872116 4.05197374 4.72522633 5.39847891 6.07173149\n",
            " 2.03221599 2.70546858 3.37872116 4.05197374 2.70546858 3.37872116\n",
            " 4.05197374 4.72522633 4.72522633 5.39847891 4.72522633 5.39847891\n",
            " 3.37872116 8.76474182]\n",
            "************************************************\n"
          ]
        },
        {
          "output_type": "display_data",
          "data": {
            "text/plain": [
              "<Figure size 787.402x472.441 with 1 Axes>"
            ],
            "image/png": "[encoded data removed]"
          },
          "metadata": {}
        },
        {
          "output_type": "stream",
          "name": "stdout",
          "text": [
            "Pendiente final: 0.6706745367538393\n",
            "Ordenada al origen final: 0.7008403989577529\n"
          ]
        }
      ],
      "source": [
        "import numpy as np\n",
        "import matplotlib.pyplot as plt\n",
        "\n",
        "# Nuevos datos de ejemplo (puntos en forma de coordenadas x, y) podemos hacer 26 predicciones\n",
        "x = np.array([1, 2, 3, 4, 5, 3, 5, 4, 5, 6,\n",
        "              7, 8, 2, 3, 4, 5, 3, 4, 5, 6, 6, 7,6,7,4,12])\n",
        "y = np.array([2, 4, 5, 4, 5, 12, 3, 4, 7, 8, 5,\n",
        "              6, 7, 8, 3, 2, 2, 4, 5, 6, 6, 1,4,5,2,3])\n",
        "\n",
        "# Inicialización de parámetros (pendiente y ordenada al origen)\n",
        "slope = np.random.rand()\n",
        "intercept = np.random.rand()\n",
        "learning_rate = 0.01\n",
        "iterations = 12\n",
        "\n",
        "# Descenso de gradiente\n",
        "for i in range(iterations):\n",
        "    predictions = slope * x + intercept\n",
        "    errors = predictions - y\n",
        "    gradient_slope = (2 / len(x)) * np.sum(errors * x)\n",
        "    gradient_intercept = (2 / len(x)) * np.sum(errors)\n",
        "    slope -= learning_rate * gradient_slope\n",
        "    intercept -= learning_rate * gradient_intercept\n",
        "    print(slope)\n",
        "    print(\"********************\")\n",
        "    print(intercept)\n",
        "print(\"****************ESLOPE*************************\")\n",
        "print(slope)\n",
        "print(\"*****************INTERCEPT**********************\")\n",
        "print(intercept)\n",
        "print(\"****************PREDICTIONS********************\")\n",
        "print(predictions)\n",
        "print(\"************************************************\")\n",
        "# Generar valores de x para la gráfica\n",
        "x_vals = np.linspace(min(x), max(x), num=100)\n",
        "\n",
        "# Configuración de tamaño de figura (más grande)\n",
        "plt.figure(figsize=(20.0/2.54 ,12.0/2.54))\n",
        "\n",
        "# Graficar los puntos y la línea ajustada\n",
        "plt.scatter(x=x, y=y, label='Datos')\n",
        "plt.plot(x_vals, slope*x_vals + intercept, color='red', label='Ajuste')\n",
        "#********************************************\n",
        "plt.scatter(x,predictions, color='violet',label='Puntos formacion recta')\n",
        "#*************************************************\n",
        "plt.xlabel('X')\n",
        "plt.ylabel('Y')\n",
        "plt.legend()\n",
        "plt.show()\n",
        "\n",
        "print(f\"Pendiente final: {slope}\")\n",
        "print(f\"Ordenada al origen final: {intercept}\")"
      ]
    }
  ]
}